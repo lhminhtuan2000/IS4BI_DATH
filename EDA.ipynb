{
 "cells": [
  {
   "cell_type": "code",
   "execution_count": 2,
   "metadata": {},
   "outputs": [],
   "source": [
    "import numpy as np\n",
    "import pandas as pd"
   ]
  },
  {
   "attachments": {},
   "cell_type": "markdown",
   "metadata": {},
   "source": [
    "# EDA"
   ]
  },
  {
   "cell_type": "code",
   "execution_count": 3,
   "metadata": {},
   "outputs": [],
   "source": [
    "# Thông tin dataframe\n",
    "def print_info(df):\n",
    "    print(\"Not duplicated:\", df.duplicated().value_counts()[0] == len(df))\n",
    "    print(\"Shape =\", df.shape)\n",
    "    print(\"Missing value\")\n",
    "    print(df.isnull().sum())\n",
    "    \n",
    "# Thông tin thuộc tính của dataframe\n",
    "def print_value(col, df, count):\n",
    "    print(\"Number of \"+ col + \"s:\",len(df[col].unique()))\n",
    "    if count == True:\n",
    "        print(\"Value counts\",pd.DataFrame(df[col].value_counts().sort_index()))\n",
    "    else:\n",
    "        print(sorted(df[col].unique()))\n",
    "    print(\"__________________________________________________________________________________________________________\")"
   ]
  },
  {
   "attachments": {},
   "cell_type": "markdown",
   "metadata": {},
   "source": [
    "# Cases Report"
   ]
  },
  {
   "cell_type": "code",
   "execution_count": 4,
   "metadata": {},
   "outputs": [
    {
     "data": {
      "text/html": [
       "<div>\n",
       "<style scoped>\n",
       "    .dataframe tbody tr th:only-of-type {\n",
       "        vertical-align: middle;\n",
       "    }\n",
       "\n",
       "    .dataframe tbody tr th {\n",
       "        vertical-align: top;\n",
       "    }\n",
       "\n",
       "    .dataframe thead th {\n",
       "        text-align: right;\n",
       "    }\n",
       "</style>\n",
       "<table border=\"1\" class=\"dataframe\">\n",
       "  <thead>\n",
       "    <tr style=\"text-align: right;\">\n",
       "      <th></th>\n",
       "      <th>Outcome</th>\n",
       "      <th>Age</th>\n",
       "      <th>Gender</th>\n",
       "      <th>Reporting PHU</th>\n",
       "      <th>SpecimenDate</th>\n",
       "      <th>CaseReported Date</th>\n",
       "      <th>PHUCity</th>\n",
       "      <th>TestReported Date</th>\n",
       "      <th>CaseAcquisition info</th>\n",
       "      <th>AccurateEpisode Dt</th>\n",
       "      <th>PHU Address</th>\n",
       "      <th>PHU Website</th>\n",
       "      <th>OutbreakRelated</th>\n",
       "      <th>PHU Latitude</th>\n",
       "      <th>PHU Longitude</th>\n",
       "      <th>PHU Postal Code</th>\n",
       "    </tr>\n",
       "  </thead>\n",
       "  <tbody>\n",
       "    <tr>\n",
       "      <th>0</th>\n",
       "      <td>Resolved</td>\n",
       "      <td>80s</td>\n",
       "      <td>FEMALE</td>\n",
       "      <td>Toronto Public Health</td>\n",
       "      <td>9/24/2020</td>\n",
       "      <td>2/6/2021</td>\n",
       "      <td>Toronto</td>\n",
       "      <td>2/6/2021</td>\n",
       "      <td>OB</td>\n",
       "      <td>1/26/2021</td>\n",
       "      <td>277 Victoria Street, 5th Floor</td>\n",
       "      <td>www.toronto.ca/community-people/health-wellnes...</td>\n",
       "      <td>Yes</td>\n",
       "      <td>43.656591</td>\n",
       "      <td>-79.379358</td>\n",
       "      <td>M5B 1W2</td>\n",
       "    </tr>\n",
       "    <tr>\n",
       "      <th>1</th>\n",
       "      <td>Resolved</td>\n",
       "      <td>&lt;20</td>\n",
       "      <td>MALE</td>\n",
       "      <td>Peel Public Health</td>\n",
       "      <td>12/24/2020</td>\n",
       "      <td>2/1/2021</td>\n",
       "      <td>Mississauga</td>\n",
       "      <td>2/1/2021</td>\n",
       "      <td>CC</td>\n",
       "      <td>1/29/2021</td>\n",
       "      <td>7120 Hurontario Street</td>\n",
       "      <td>www.peelregion.ca/health/</td>\n",
       "      <td>NaN</td>\n",
       "      <td>43.647471</td>\n",
       "      <td>-79.708893</td>\n",
       "      <td>L5W 1N4</td>\n",
       "    </tr>\n",
       "    <tr>\n",
       "      <th>2</th>\n",
       "      <td>Resolved</td>\n",
       "      <td>20s</td>\n",
       "      <td>MALE</td>\n",
       "      <td>Lambton Public Health</td>\n",
       "      <td>9/23/2020</td>\n",
       "      <td>1/15/2021</td>\n",
       "      <td>Point Edward</td>\n",
       "      <td>1/14/2021</td>\n",
       "      <td>CC</td>\n",
       "      <td>1/10/2021</td>\n",
       "      <td>160 Exmouth Street</td>\n",
       "      <td>www.lambtonhealth.on.ca</td>\n",
       "      <td>Yes</td>\n",
       "      <td>42.986416</td>\n",
       "      <td>-82.404808</td>\n",
       "      <td>N7T 7Z6</td>\n",
       "    </tr>\n",
       "    <tr>\n",
       "      <th>3</th>\n",
       "      <td>Resolved</td>\n",
       "      <td>20s</td>\n",
       "      <td>MALE</td>\n",
       "      <td>Region of Waterloo, Public Health</td>\n",
       "      <td>9/20/2020</td>\n",
       "      <td>12/29/2020</td>\n",
       "      <td>Waterloo</td>\n",
       "      <td>9/23/2020</td>\n",
       "      <td>NO KNOWN EPI LINK</td>\n",
       "      <td>9/20/2020</td>\n",
       "      <td>99 Regina Street South</td>\n",
       "      <td>www.regionofwaterloo.ca</td>\n",
       "      <td>NaN</td>\n",
       "      <td>43.462876</td>\n",
       "      <td>-80.520913</td>\n",
       "      <td>N2J 4V3</td>\n",
       "    </tr>\n",
       "    <tr>\n",
       "      <th>4</th>\n",
       "      <td>Resolved</td>\n",
       "      <td>20s</td>\n",
       "      <td>FEMALE</td>\n",
       "      <td>Ottawa Public Health</td>\n",
       "      <td>9/21/2020</td>\n",
       "      <td>12/24/2020</td>\n",
       "      <td>Ottawa</td>\n",
       "      <td>9/22/2020</td>\n",
       "      <td>CC</td>\n",
       "      <td>9/21/2020</td>\n",
       "      <td>100 Constellation Drive</td>\n",
       "      <td>www.ottawapublichealth.ca</td>\n",
       "      <td>NaN</td>\n",
       "      <td>45.345665</td>\n",
       "      <td>-75.763912</td>\n",
       "      <td>K2G 6J8</td>\n",
       "    </tr>\n",
       "  </tbody>\n",
       "</table>\n",
       "</div>"
      ],
      "text/plain": [
       "    Outcome  Age  Gender                      Reporting PHU SpecimenDate  \\\n",
       "0  Resolved  80s  FEMALE              Toronto Public Health    9/24/2020   \n",
       "1  Resolved  <20    MALE                 Peel Public Health   12/24/2020   \n",
       "2  Resolved  20s    MALE              Lambton Public Health    9/23/2020   \n",
       "3  Resolved  20s    MALE  Region of Waterloo, Public Health    9/20/2020   \n",
       "4  Resolved  20s  FEMALE               Ottawa Public Health    9/21/2020   \n",
       "\n",
       "  CaseReported Date       PHUCity TestReported Date CaseAcquisition info  \\\n",
       "0          2/6/2021       Toronto          2/6/2021                   OB   \n",
       "1          2/1/2021   Mississauga          2/1/2021                   CC   \n",
       "2         1/15/2021  Point Edward         1/14/2021                   CC   \n",
       "3        12/29/2020      Waterloo         9/23/2020    NO KNOWN EPI LINK   \n",
       "4        12/24/2020        Ottawa         9/22/2020                   CC   \n",
       "\n",
       "  AccurateEpisode Dt                     PHU Address  \\\n",
       "0          1/26/2021  277 Victoria Street, 5th Floor   \n",
       "1          1/29/2021          7120 Hurontario Street   \n",
       "2          1/10/2021              160 Exmouth Street   \n",
       "3          9/20/2020          99 Regina Street South   \n",
       "4          9/21/2020         100 Constellation Drive   \n",
       "\n",
       "                                         PHU Website OutbreakRelated  \\\n",
       "0  www.toronto.ca/community-people/health-wellnes...             Yes   \n",
       "1                          www.peelregion.ca/health/             NaN   \n",
       "2                            www.lambtonhealth.on.ca             Yes   \n",
       "3                            www.regionofwaterloo.ca             NaN   \n",
       "4                          www.ottawapublichealth.ca             NaN   \n",
       "\n",
       "   PHU Latitude  PHU Longitude PHU Postal Code  \n",
       "0     43.656591     -79.379358         M5B 1W2  \n",
       "1     43.647471     -79.708893         L5W 1N4  \n",
       "2     42.986416     -82.404808         N7T 7Z6  \n",
       "3     43.462876     -80.520913         N2J 4V3  \n",
       "4     45.345665     -75.763912         K2G 6J8  "
      ]
     },
     "execution_count": 4,
     "metadata": {},
     "output_type": "execute_result"
    }
   ],
   "source": [
    "df_cases_report = pd.read_csv(\"./data/Cases Report.csv\")\n",
    "df_cases_report.head()"
   ]
  },
  {
   "cell_type": "code",
   "execution_count": 5,
   "metadata": {},
   "outputs": [
    {
     "name": "stdout",
     "output_type": "stream",
     "text": [
      "Not duplicated: False\n",
      "Shape = (28500, 16)\n",
      "Missing value\n",
      "Outcome                     0\n",
      "Age                         0\n",
      "Gender                      0\n",
      "Reporting PHU               0\n",
      "SpecimenDate              208\n",
      "CaseReported Date           0\n",
      "PHUCity                     0\n",
      "TestReported Date         418\n",
      "CaseAcquisition info        0\n",
      "AccurateEpisode Dt          0\n",
      "PHU Address                 0\n",
      "PHU Website                 0\n",
      "OutbreakRelated         19790\n",
      "PHU Latitude                0\n",
      "PHU Longitude               0\n",
      "PHU Postal Code             0\n",
      "dtype: int64\n"
     ]
    }
   ],
   "source": [
    "print_info(df_cases_report)"
   ]
  },
  {
   "cell_type": "code",
   "execution_count": 6,
   "metadata": {},
   "outputs": [
    {
     "name": "stdout",
     "output_type": "stream",
     "text": [
      "Number of Outcomes: 3\n",
      "Value counts               Outcome\n",
      "Fatal            1307\n",
      "Not Resolved        1\n",
      "Resolved        27192\n",
      "__________________________________________________________________________________________________________\n",
      "Number of Ages: 9\n",
      "['20s', '30s', '40s', '50s', '60s', '70s', '80s', '90+', '<20']\n",
      "__________________________________________________________________________________________________________\n",
      "Number of Genders: 4\n",
      "Value counts                 Gender\n",
      "FEMALE           14470\n",
      "GENDER DIVERSE       3\n",
      "MALE             14006\n",
      "UNSPECIFIED         21\n",
      "__________________________________________________________________________________________________________\n",
      "Number of Reporting PHUs: 34\n",
      "['Algoma Public Health Unit', 'Brant County Health Unit', 'Chatham-Kent Health Unit', 'Durham Region Health Department', 'Eastern Ontario Health Unit', 'Grey Bruce Health Unit', 'Haldimand-Norfolk Health Unit', 'Haliburton, Kawartha, Pine Ridge District Health Unit', 'Halton Region Health Department', 'Hamilton Public Health Services', 'Hastings and Prince Edward Counties Health Unit', 'Huron Perth District Health Unit', 'Kingston, Frontenac and Lennox & Addington Public Health', 'Lambton Public Health', 'Leeds, Grenville and Lanark District Health Unit', 'Middlesex-London Health Unit', 'Niagara Region Public Health Department', 'North Bay Parry Sound District Health Unit', 'Northwestern Health Unit', 'Ottawa Public Health', 'Peel Public Health', 'Peterborough Public Health', 'Porcupine Health Unit', 'Region of Waterloo, Public Health', 'Renfrew County and District Health Unit', 'Simcoe Muskoka District Health Unit', 'Southwestern Public Health', 'Sudbury & District Health Unit', 'Thunder Bay District Health Unit', 'Timiskaming Health Unit', 'Toronto Public Health', 'Wellington-Dufferin-Guelph Public Health', 'Windsor-Essex County Health Unit', 'York Region Public Health Services']\n",
      "__________________________________________________________________________________________________________\n",
      "Number of PHUCitys: 34\n",
      "['Barrie', 'Belleville', 'Brantford', 'Brockville', 'Chatham', 'Cornwall', 'Guelph', 'Hamilton', 'Kenora', 'Kingston', 'London', 'Mississauga', 'New Liskeard', 'Newmarket', 'North Bay', 'Oakville', 'Ottawa', 'Owen Sound', 'Pembroke', 'Peterborough', 'Point Edward', 'Port Hope', 'Sault Ste. Marie', 'Simcoe', 'St. Thomas', 'Stratford', 'Sudbury', 'Thorold', 'Thunder Bay', 'Timmins', 'Toronto', 'Waterloo', 'Whitby', 'Windsor']\n",
      "__________________________________________________________________________________________________________\n",
      "Number of CaseAcquisition infos: 6\n",
      "['CC', 'MISSING INFORMATION', 'NO KNOWN EPI LINK', 'OB', 'TRAVEL', 'UNSPECIFIED EPI LINK']\n",
      "__________________________________________________________________________________________________________\n"
     ]
    }
   ],
   "source": [
    "print_value(\"Outcome\",df_cases_report,True)\n",
    "print_value(\"Age\",df_cases_report,0)\n",
    "print_value(\"Gender\",df_cases_report,True)\n",
    "print_value(\"Reporting PHU\",df_cases_report,0)\n",
    "print_value(\"PHUCity\",df_cases_report,0)\n",
    "print_value(\"CaseAcquisition info\",df_cases_report,0)"
   ]
  },
  {
   "cell_type": "code",
   "execution_count": 7,
   "metadata": {},
   "outputs": [
    {
     "data": {
      "text/plain": [
       "False    26972\n",
       "True      1528\n",
       "dtype: int64"
      ]
     },
     "execution_count": 7,
     "metadata": {},
     "output_type": "execute_result"
    }
   ],
   "source": [
    "df_cases_report.duplicated().value_counts()\n",
    "# df_cases_report[df_cases_report.duplicated() == True]"
   ]
  },
  {
   "cell_type": "code",
   "execution_count": 8,
   "metadata": {},
   "outputs": [
    {
     "data": {
      "text/html": [
       "<div>\n",
       "<style scoped>\n",
       "    .dataframe tbody tr th:only-of-type {\n",
       "        vertical-align: middle;\n",
       "    }\n",
       "\n",
       "    .dataframe tbody tr th {\n",
       "        vertical-align: top;\n",
       "    }\n",
       "\n",
       "    .dataframe thead th {\n",
       "        text-align: right;\n",
       "    }\n",
       "</style>\n",
       "<table border=\"1\" class=\"dataframe\">\n",
       "  <thead>\n",
       "    <tr style=\"text-align: right;\">\n",
       "      <th></th>\n",
       "      <th>Outcome</th>\n",
       "      <th>Age</th>\n",
       "      <th>Gender</th>\n",
       "      <th>Reporting PHU</th>\n",
       "      <th>SpecimenDate</th>\n",
       "      <th>CaseReported Date</th>\n",
       "      <th>PHUCity</th>\n",
       "      <th>TestReported Date</th>\n",
       "      <th>CaseAcquisition info</th>\n",
       "      <th>AccurateEpisode Dt</th>\n",
       "      <th>PHU Address</th>\n",
       "      <th>PHU Website</th>\n",
       "      <th>OutbreakRelated</th>\n",
       "      <th>PHU Latitude</th>\n",
       "      <th>PHU Longitude</th>\n",
       "      <th>PHU Postal Code</th>\n",
       "    </tr>\n",
       "  </thead>\n",
       "  <tbody>\n",
       "    <tr>\n",
       "      <th>195</th>\n",
       "      <td>Resolved</td>\n",
       "      <td>&lt;20</td>\n",
       "      <td>FEMALE</td>\n",
       "      <td>Hamilton Public Health Services</td>\n",
       "      <td>10/6/2020</td>\n",
       "      <td>10/8/2020</td>\n",
       "      <td>Hamilton</td>\n",
       "      <td>10/8/2020</td>\n",
       "      <td>OB</td>\n",
       "      <td>10/4/2020</td>\n",
       "      <td>110 King St. West, 2nd Floor</td>\n",
       "      <td>www.hamilton.ca/publichealth</td>\n",
       "      <td>Yes</td>\n",
       "      <td>43.257631</td>\n",
       "      <td>-79.871341</td>\n",
       "      <td>L8P 4S6</td>\n",
       "    </tr>\n",
       "    <tr>\n",
       "      <th>197</th>\n",
       "      <td>Resolved</td>\n",
       "      <td>&lt;20</td>\n",
       "      <td>FEMALE</td>\n",
       "      <td>Hamilton Public Health Services</td>\n",
       "      <td>10/6/2020</td>\n",
       "      <td>10/8/2020</td>\n",
       "      <td>Hamilton</td>\n",
       "      <td>10/8/2020</td>\n",
       "      <td>OB</td>\n",
       "      <td>10/4/2020</td>\n",
       "      <td>110 King St. West, 2nd Floor</td>\n",
       "      <td>www.hamilton.ca/publichealth</td>\n",
       "      <td>Yes</td>\n",
       "      <td>43.257631</td>\n",
       "      <td>-79.871341</td>\n",
       "      <td>L8P 4S6</td>\n",
       "    </tr>\n",
       "  </tbody>\n",
       "</table>\n",
       "</div>"
      ],
      "text/plain": [
       "      Outcome  Age  Gender                    Reporting PHU SpecimenDate  \\\n",
       "195  Resolved  <20  FEMALE  Hamilton Public Health Services    10/6/2020   \n",
       "197  Resolved  <20  FEMALE  Hamilton Public Health Services    10/6/2020   \n",
       "\n",
       "    CaseReported Date   PHUCity TestReported Date CaseAcquisition info  \\\n",
       "195         10/8/2020  Hamilton         10/8/2020                   OB   \n",
       "197         10/8/2020  Hamilton         10/8/2020                   OB   \n",
       "\n",
       "    AccurateEpisode Dt                   PHU Address  \\\n",
       "195          10/4/2020  110 King St. West, 2nd Floor   \n",
       "197          10/4/2020  110 King St. West, 2nd Floor   \n",
       "\n",
       "                      PHU Website OutbreakRelated  PHU Latitude  \\\n",
       "195  www.hamilton.ca/publichealth             Yes     43.257631   \n",
       "197  www.hamilton.ca/publichealth             Yes     43.257631   \n",
       "\n",
       "     PHU Longitude PHU Postal Code  \n",
       "195     -79.871341         L8P 4S6  \n",
       "197     -79.871341         L8P 4S6  "
      ]
     },
     "execution_count": 8,
     "metadata": {},
     "output_type": "execute_result"
    }
   ],
   "source": [
    "df_cases_report[(df_cases_report['Reporting PHU'] == 'Hamilton Public Health Services') \n",
    "                & (df_cases_report['SpecimenDate'] == '10/6/2020')\n",
    "                & (df_cases_report['Age'] == '<20')\n",
    "                & (df_cases_report['CaseAcquisition info'] == 'OB')]"
   ]
  },
  {
   "attachments": {},
   "cell_type": "markdown",
   "metadata": {},
   "source": [
    "# Compiled_COVID-19_Case_Details"
   ]
  },
  {
   "cell_type": "code",
   "execution_count": 9,
   "metadata": {},
   "outputs": [
    {
     "data": {
      "text/html": [
       "<div>\n",
       "<style scoped>\n",
       "    .dataframe tbody tr th:only-of-type {\n",
       "        vertical-align: middle;\n",
       "    }\n",
       "\n",
       "    .dataframe tbody tr th {\n",
       "        vertical-align: top;\n",
       "    }\n",
       "\n",
       "    .dataframe thead th {\n",
       "        text-align: right;\n",
       "    }\n",
       "</style>\n",
       "<table border=\"1\" class=\"dataframe\">\n",
       "  <thead>\n",
       "    <tr style=\"text-align: right;\">\n",
       "      <th></th>\n",
       "      <th>ObjectId</th>\n",
       "      <th>row_id</th>\n",
       "      <th>date_reported</th>\n",
       "      <th>health_region</th>\n",
       "      <th>age_group</th>\n",
       "      <th>gender</th>\n",
       "      <th>exposure</th>\n",
       "      <th>case_status</th>\n",
       "      <th>province</th>\n",
       "    </tr>\n",
       "  </thead>\n",
       "  <tbody>\n",
       "    <tr>\n",
       "      <th>0</th>\n",
       "      <td>1</td>\n",
       "      <td>500</td>\n",
       "      <td>2020/03/23 12:00:00+00</td>\n",
       "      <td>Peel Public Health</td>\n",
       "      <td>20-29</td>\n",
       "      <td>Female</td>\n",
       "      <td>Close Contact</td>\n",
       "      <td>Recovered</td>\n",
       "      <td>Ontario</td>\n",
       "    </tr>\n",
       "    <tr>\n",
       "      <th>1</th>\n",
       "      <td>2</td>\n",
       "      <td>501</td>\n",
       "      <td>2020/04/02 12:00:00+00</td>\n",
       "      <td>Peel Public Health</td>\n",
       "      <td>40-49</td>\n",
       "      <td>Female</td>\n",
       "      <td>Close Contact</td>\n",
       "      <td>Recovered</td>\n",
       "      <td>Ontario</td>\n",
       "    </tr>\n",
       "    <tr>\n",
       "      <th>2</th>\n",
       "      <td>3</td>\n",
       "      <td>502</td>\n",
       "      <td>2020/03/25 12:00:00+00</td>\n",
       "      <td>Kingston, Frontenac and Lennox &amp; Addington Pub...</td>\n",
       "      <td>30-39</td>\n",
       "      <td>Male</td>\n",
       "      <td>Close Contact</td>\n",
       "      <td>Recovered</td>\n",
       "      <td>Ontario</td>\n",
       "    </tr>\n",
       "    <tr>\n",
       "      <th>3</th>\n",
       "      <td>4</td>\n",
       "      <td>503</td>\n",
       "      <td>2020/03/28 12:00:00+00</td>\n",
       "      <td>Kingston, Frontenac and Lennox &amp; Addington Pub...</td>\n",
       "      <td>&lt;20</td>\n",
       "      <td>Female</td>\n",
       "      <td>Close Contact</td>\n",
       "      <td>Recovered</td>\n",
       "      <td>Ontario</td>\n",
       "    </tr>\n",
       "    <tr>\n",
       "      <th>4</th>\n",
       "      <td>5</td>\n",
       "      <td>504</td>\n",
       "      <td>2020/03/30 12:00:00+00</td>\n",
       "      <td>Peel Public Health</td>\n",
       "      <td>50-59</td>\n",
       "      <td>Male</td>\n",
       "      <td>Close Contact</td>\n",
       "      <td>Recovered</td>\n",
       "      <td>Ontario</td>\n",
       "    </tr>\n",
       "  </tbody>\n",
       "</table>\n",
       "</div>"
      ],
      "text/plain": [
       "   ObjectId  row_id           date_reported  \\\n",
       "0         1     500  2020/03/23 12:00:00+00   \n",
       "1         2     501  2020/04/02 12:00:00+00   \n",
       "2         3     502  2020/03/25 12:00:00+00   \n",
       "3         4     503  2020/03/28 12:00:00+00   \n",
       "4         5     504  2020/03/30 12:00:00+00   \n",
       "\n",
       "                                       health_region age_group  gender  \\\n",
       "0                                 Peel Public Health     20-29  Female   \n",
       "1                                 Peel Public Health     40-49  Female   \n",
       "2  Kingston, Frontenac and Lennox & Addington Pub...     30-39    Male   \n",
       "3  Kingston, Frontenac and Lennox & Addington Pub...       <20  Female   \n",
       "4                                 Peel Public Health     50-59    Male   \n",
       "\n",
       "        exposure case_status province  \n",
       "0  Close Contact   Recovered  Ontario  \n",
       "1  Close Contact   Recovered  Ontario  \n",
       "2  Close Contact   Recovered  Ontario  \n",
       "3  Close Contact   Recovered  Ontario  \n",
       "4  Close Contact   Recovered  Ontario  "
      ]
     },
     "execution_count": 9,
     "metadata": {},
     "output_type": "execute_result"
    }
   ],
   "source": [
    "df_Compiled_COVID_19_Case_Details_Canada = pd.read_csv(\"./data/Compiled_COVID-19_Case_Details_Canada.csv\")\n",
    "df_Compiled_COVID_19_Case_Details_Canada.head()"
   ]
  },
  {
   "cell_type": "code",
   "execution_count": 10,
   "metadata": {},
   "outputs": [
    {
     "data": {
      "text/html": [
       "<div>\n",
       "<style scoped>\n",
       "    .dataframe tbody tr th:only-of-type {\n",
       "        vertical-align: middle;\n",
       "    }\n",
       "\n",
       "    .dataframe tbody tr th {\n",
       "        vertical-align: top;\n",
       "    }\n",
       "\n",
       "    .dataframe thead th {\n",
       "        text-align: right;\n",
       "    }\n",
       "</style>\n",
       "<table border=\"1\" class=\"dataframe\">\n",
       "  <thead>\n",
       "    <tr style=\"text-align: right;\">\n",
       "      <th></th>\n",
       "      <th>ObjectId</th>\n",
       "      <th>row_id</th>\n",
       "      <th>date_reported</th>\n",
       "      <th>health_region</th>\n",
       "      <th>age_group</th>\n",
       "      <th>gender</th>\n",
       "      <th>exposure</th>\n",
       "      <th>case_status</th>\n",
       "      <th>province</th>\n",
       "    </tr>\n",
       "  </thead>\n",
       "  <tbody>\n",
       "    <tr>\n",
       "      <th>1594</th>\n",
       "      <td>1595</td>\n",
       "      <td>0</td>\n",
       "      <td>2020/03/13 12:00:00+00</td>\n",
       "      <td>Peel Public Health</td>\n",
       "      <td>30-39</td>\n",
       "      <td>Female</td>\n",
       "      <td>Outbreak</td>\n",
       "      <td>Recovered</td>\n",
       "      <td>Ontario</td>\n",
       "    </tr>\n",
       "    <tr>\n",
       "      <th>2001</th>\n",
       "      <td>2002</td>\n",
       "      <td>1</td>\n",
       "      <td>2020/06/15 12:00:00+00</td>\n",
       "      <td>Peel Public Health</td>\n",
       "      <td>40-49</td>\n",
       "      <td>Female</td>\n",
       "      <td>Close Contact</td>\n",
       "      <td>Recovered</td>\n",
       "      <td>Ontario</td>\n",
       "    </tr>\n",
       "    <tr>\n",
       "      <th>2002</th>\n",
       "      <td>2003</td>\n",
       "      <td>2</td>\n",
       "      <td>2020/03/16 12:00:00+00</td>\n",
       "      <td>Peel Public Health</td>\n",
       "      <td>40-49</td>\n",
       "      <td>Male</td>\n",
       "      <td>Outbreak</td>\n",
       "      <td>Recovered</td>\n",
       "      <td>Ontario</td>\n",
       "    </tr>\n",
       "    <tr>\n",
       "      <th>2003</th>\n",
       "      <td>2004</td>\n",
       "      <td>3</td>\n",
       "      <td>2020/04/10 12:00:00+00</td>\n",
       "      <td>Peel Public Health</td>\n",
       "      <td>80+</td>\n",
       "      <td>Male</td>\n",
       "      <td>Outbreak</td>\n",
       "      <td>Deceased</td>\n",
       "      <td>Ontario</td>\n",
       "    </tr>\n",
       "    <tr>\n",
       "      <th>2004</th>\n",
       "      <td>2005</td>\n",
       "      <td>4</td>\n",
       "      <td>2020/03/22 12:00:00+00</td>\n",
       "      <td>Peel Public Health</td>\n",
       "      <td>50-59</td>\n",
       "      <td>Male</td>\n",
       "      <td>Not Reported</td>\n",
       "      <td>Recovered</td>\n",
       "      <td>Ontario</td>\n",
       "    </tr>\n",
       "    <tr>\n",
       "      <th>...</th>\n",
       "      <td>...</td>\n",
       "      <td>...</td>\n",
       "      <td>...</td>\n",
       "      <td>...</td>\n",
       "      <td>...</td>\n",
       "      <td>...</td>\n",
       "      <td>...</td>\n",
       "      <td>...</td>\n",
       "      <td>...</td>\n",
       "    </tr>\n",
       "    <tr>\n",
       "      <th>1048004</th>\n",
       "      <td>1048005</td>\n",
       "      <td>1049497</td>\n",
       "      <td>2020/12/02 12:00:00+00</td>\n",
       "      <td>Mauricie</td>\n",
       "      <td>Not Reported</td>\n",
       "      <td>Not Reported</td>\n",
       "      <td>Not Reported</td>\n",
       "      <td>Not Reported</td>\n",
       "      <td>Quebec</td>\n",
       "    </tr>\n",
       "    <tr>\n",
       "      <th>1048005</th>\n",
       "      <td>1048006</td>\n",
       "      <td>1049498</td>\n",
       "      <td>2020/12/02 12:00:00+00</td>\n",
       "      <td>Mauricie</td>\n",
       "      <td>Not Reported</td>\n",
       "      <td>Not Reported</td>\n",
       "      <td>Not Reported</td>\n",
       "      <td>Not Reported</td>\n",
       "      <td>Quebec</td>\n",
       "    </tr>\n",
       "    <tr>\n",
       "      <th>1048006</th>\n",
       "      <td>1048007</td>\n",
       "      <td>1049499</td>\n",
       "      <td>2020/12/02 12:00:00+00</td>\n",
       "      <td>Mauricie</td>\n",
       "      <td>Not Reported</td>\n",
       "      <td>Not Reported</td>\n",
       "      <td>Not Reported</td>\n",
       "      <td>Not Reported</td>\n",
       "      <td>Quebec</td>\n",
       "    </tr>\n",
       "    <tr>\n",
       "      <th>1047834</th>\n",
       "      <td>1047835</td>\n",
       "      <td>1049500</td>\n",
       "      <td>2020/12/02 12:00:00+00</td>\n",
       "      <td>Mauricie</td>\n",
       "      <td>Not Reported</td>\n",
       "      <td>Not Reported</td>\n",
       "      <td>Not Reported</td>\n",
       "      <td>Not Reported</td>\n",
       "      <td>Quebec</td>\n",
       "    </tr>\n",
       "    <tr>\n",
       "      <th>1048441</th>\n",
       "      <td>1048442</td>\n",
       "      <td>1049501</td>\n",
       "      <td>2020/12/02 12:00:00+00</td>\n",
       "      <td>Mauricie</td>\n",
       "      <td>Not Reported</td>\n",
       "      <td>Not Reported</td>\n",
       "      <td>Not Reported</td>\n",
       "      <td>Not Reported</td>\n",
       "      <td>Quebec</td>\n",
       "    </tr>\n",
       "  </tbody>\n",
       "</table>\n",
       "<p>1048575 rows × 9 columns</p>\n",
       "</div>"
      ],
      "text/plain": [
       "         ObjectId   row_id           date_reported       health_region  \\\n",
       "1594         1595        0  2020/03/13 12:00:00+00  Peel Public Health   \n",
       "2001         2002        1  2020/06/15 12:00:00+00  Peel Public Health   \n",
       "2002         2003        2  2020/03/16 12:00:00+00  Peel Public Health   \n",
       "2003         2004        3  2020/04/10 12:00:00+00  Peel Public Health   \n",
       "2004         2005        4  2020/03/22 12:00:00+00  Peel Public Health   \n",
       "...           ...      ...                     ...                 ...   \n",
       "1048004   1048005  1049497  2020/12/02 12:00:00+00            Mauricie   \n",
       "1048005   1048006  1049498  2020/12/02 12:00:00+00            Mauricie   \n",
       "1048006   1048007  1049499  2020/12/02 12:00:00+00            Mauricie   \n",
       "1047834   1047835  1049500  2020/12/02 12:00:00+00            Mauricie   \n",
       "1048441   1048442  1049501  2020/12/02 12:00:00+00            Mauricie   \n",
       "\n",
       "            age_group        gender       exposure   case_status province  \n",
       "1594            30-39        Female       Outbreak     Recovered  Ontario  \n",
       "2001            40-49        Female  Close Contact     Recovered  Ontario  \n",
       "2002            40-49          Male       Outbreak     Recovered  Ontario  \n",
       "2003              80+          Male       Outbreak      Deceased  Ontario  \n",
       "2004            50-59          Male   Not Reported     Recovered  Ontario  \n",
       "...               ...           ...            ...           ...      ...  \n",
       "1048004  Not Reported  Not Reported   Not Reported  Not Reported   Quebec  \n",
       "1048005  Not Reported  Not Reported   Not Reported  Not Reported   Quebec  \n",
       "1048006  Not Reported  Not Reported   Not Reported  Not Reported   Quebec  \n",
       "1047834  Not Reported  Not Reported   Not Reported  Not Reported   Quebec  \n",
       "1048441  Not Reported  Not Reported   Not Reported  Not Reported   Quebec  \n",
       "\n",
       "[1048575 rows x 9 columns]"
      ]
     },
     "execution_count": 10,
     "metadata": {},
     "output_type": "execute_result"
    }
   ],
   "source": [
    "df_Compiled_COVID_19_Case_Details_Canada.sort_values(by='row_id')"
   ]
  },
  {
   "cell_type": "code",
   "execution_count": 11,
   "metadata": {},
   "outputs": [
    {
     "name": "stdout",
     "output_type": "stream",
     "text": [
      "Number of cases Ontario: 533761\n",
      "Duplicated\n",
      " False    533761\n",
      "dtype: int64\n"
     ]
    }
   ],
   "source": [
    "print(\"Number of cases Ontario:\", len(df_Compiled_COVID_19_Case_Details_Canada[df_Compiled_COVID_19_Case_Details_Canada['province'] == \"Ontario\"]))\n",
    "print(\"Duplicated\\n\", df_Compiled_COVID_19_Case_Details_Canada[df_Compiled_COVID_19_Case_Details_Canada['province'] == \"Ontario\"].duplicated().value_counts())"
   ]
  },
  {
   "cell_type": "code",
   "execution_count": 12,
   "metadata": {},
   "outputs": [
    {
     "name": "stdout",
     "output_type": "stream",
     "text": [
      "Not duplicated: True\n",
      "Shape = (1048575, 9)\n",
      "Missing value\n",
      "ObjectId         0\n",
      "row_id           0\n",
      "date_reported    0\n",
      "health_region    0\n",
      "age_group        0\n",
      "gender           0\n",
      "exposure         0\n",
      "case_status      0\n",
      "province         0\n",
      "dtype: int64\n"
     ]
    }
   ],
   "source": [
    "print_info(df_Compiled_COVID_19_Case_Details_Canada)"
   ]
  },
  {
   "cell_type": "code",
   "execution_count": 13,
   "metadata": {},
   "outputs": [
    {
     "name": "stdout",
     "output_type": "stream",
     "text": [
      "Number of health_regions: 65\n",
      "['Abitibi-Témiscamingue', 'Algoma Public Health Unit', 'Bas-Saint-Laurent', 'Brant County Health Unit', 'Calgary Zone', 'Capitale-Nationale', 'Central Zone', 'Chatham-Kent Health Unit', 'Chaudière-Appalaches', 'Côte-Nord', 'Durham Region Health Department', 'Eastern Ontario Health Unit', 'Edmonton Zone', 'Estrie', 'Fraser', 'Gaspésie-Îles-de-la-Madeleine', 'Grey Bruce Health Unit', 'Haldimand-Norfolk Health Unit', 'Haliburton, Kawartha, Pine Ridge District Health Unit', 'Halton Region Health Department', 'Hamilton Public Health Services', 'Hastings and Prince Edward Counties Health Unit', 'Huron Perth District Health Unit', 'Interior', 'Kingston, Frontenac and Lennox & Addington Public Health', 'Lambton Public Health', 'Lanaudière', 'Laurentides', 'Laval', 'Leeds, Grenville and Lanark District Health Unit', 'Mauricie', 'Middlesex-London Health Unit', 'Montréal', 'Montérégie', 'Niagara Region Public Health Department', 'Nord-du-Québec', 'North Bay Parry Sound District Health Unit', 'North Zone', 'Northern', 'Northwestern Health Unit', 'Not Reported', 'Nunavik', 'Ottawa Public Health', 'Out of Canada', 'Outaouais', 'Peel Public Health', 'Peterborough Public Health', 'Porcupine Health Unit', 'Region of Waterloo, Public Health', 'Renfrew County and District Health Unit', 'Saguenay', 'Simcoe Muskoka District Health Unit', 'South Zone', 'Southwestern Public Health', 'Sudbury & District Health Unit', 'Terres-Cries-de-la-Baie-James', 'Thunder Bay District Health Unit', 'Timiskaming Health Unit', 'Toronto Public Health', 'Unknown', 'Vancouver Coastal', 'Vancouver Island', 'Wellington-Dufferin-Guelph Public Health', 'Windsor-Essex County Health Unit', 'York Region Public Health Services']\n",
      "__________________________________________________________________________________________________________\n",
      "Number of age_groups: 9\n",
      "['20-29', '30-39', '40-49', '50-59', '60-69', '70-79', '80+', '<20', 'Not Reported']\n",
      "__________________________________________________________________________________________________________\n",
      "Number of genders: 3\n",
      "['Female', 'Male', 'Not Reported']\n",
      "__________________________________________________________________________________________________________\n",
      "Number of exposures: 4\n",
      "['Close Contact', 'Not Reported', 'Outbreak', 'Travel-Related']\n",
      "__________________________________________________________________________________________________________\n",
      "Number of case_statuss: 4\n",
      "Value counts               case_status\n",
      "Active              16266\n",
      "Deceased            11032\n",
      "Not Reported       286686\n",
      "Recovered          734591\n",
      "__________________________________________________________________________________________________________\n",
      "Number of provinces: 4\n",
      "['Alberta', 'British Columbia', 'Ontario', 'Quebec']\n",
      "__________________________________________________________________________________________________________\n"
     ]
    }
   ],
   "source": [
    "print_value(\"health_region\", df_Compiled_COVID_19_Case_Details_Canada, 0)\n",
    "print_value(\"age_group\", df_Compiled_COVID_19_Case_Details_Canada, 0)\n",
    "print_value(\"gender\", df_Compiled_COVID_19_Case_Details_Canada, 0)\n",
    "print_value(\"exposure\", df_Compiled_COVID_19_Case_Details_Canada, 0)\n",
    "print_value(\"case_status\", df_Compiled_COVID_19_Case_Details_Canada, True)\n",
    "print_value(\"province\", df_Compiled_COVID_19_Case_Details_Canada, 0)"
   ]
  },
  {
   "attachments": {},
   "cell_type": "markdown",
   "metadata": {},
   "source": [
    "# ongoing_outbreadks_phu"
   ]
  },
  {
   "cell_type": "code",
   "execution_count": 14,
   "metadata": {},
   "outputs": [
    {
     "data": {
      "text/html": [
       "<div>\n",
       "<style scoped>\n",
       "    .dataframe tbody tr th:only-of-type {\n",
       "        vertical-align: middle;\n",
       "    }\n",
       "\n",
       "    .dataframe tbody tr th {\n",
       "        vertical-align: top;\n",
       "    }\n",
       "\n",
       "    .dataframe thead th {\n",
       "        text-align: right;\n",
       "    }\n",
       "</style>\n",
       "<table border=\"1\" class=\"dataframe\">\n",
       "  <thead>\n",
       "    <tr style=\"text-align: right;\">\n",
       "      <th></th>\n",
       "      <th>date</th>\n",
       "      <th>phu_num</th>\n",
       "      <th>outbreak_group</th>\n",
       "      <th>number_ongoing_outbreaks</th>\n",
       "    </tr>\n",
       "  </thead>\n",
       "  <tbody>\n",
       "    <tr>\n",
       "      <th>0</th>\n",
       "      <td>11/1/2020</td>\n",
       "      <td>2227</td>\n",
       "      <td>1 Congregate Care</td>\n",
       "      <td>2</td>\n",
       "    </tr>\n",
       "    <tr>\n",
       "      <th>1</th>\n",
       "      <td>11/1/2020</td>\n",
       "      <td>2227</td>\n",
       "      <td>4 Workplace</td>\n",
       "      <td>1</td>\n",
       "    </tr>\n",
       "    <tr>\n",
       "      <th>2</th>\n",
       "      <td>11/1/2020</td>\n",
       "      <td>2240</td>\n",
       "      <td>4 Workplace</td>\n",
       "      <td>1</td>\n",
       "    </tr>\n",
       "    <tr>\n",
       "      <th>3</th>\n",
       "      <td>11/1/2020</td>\n",
       "      <td>2240</td>\n",
       "      <td>5 Recreational</td>\n",
       "      <td>1</td>\n",
       "    </tr>\n",
       "    <tr>\n",
       "      <th>4</th>\n",
       "      <td>11/1/2020</td>\n",
       "      <td>2240</td>\n",
       "      <td>6 Other/Unknown</td>\n",
       "      <td>1</td>\n",
       "    </tr>\n",
       "  </tbody>\n",
       "</table>\n",
       "</div>"
      ],
      "text/plain": [
       "        date  phu_num     outbreak_group  number_ongoing_outbreaks\n",
       "0  11/1/2020     2227  1 Congregate Care                         2\n",
       "1  11/1/2020     2227        4 Workplace                         1\n",
       "2  11/1/2020     2240        4 Workplace                         1\n",
       "3  11/1/2020     2240     5 Recreational                         1\n",
       "4  11/1/2020     2240    6 Other/Unknown                         1"
      ]
     },
     "execution_count": 14,
     "metadata": {},
     "output_type": "execute_result"
    }
   ],
   "source": [
    "df_ongoing_outbreaks_phu = pd.read_csv(\"./data/ongoing_outbreaks_phu.csv\")\n",
    "df_ongoing_outbreaks_phu.head()"
   ]
  },
  {
   "cell_type": "code",
   "execution_count": 15,
   "metadata": {},
   "outputs": [
    {
     "name": "stdout",
     "output_type": "stream",
     "text": [
      "Not duplicated: True\n",
      "Shape = (56987, 4)\n",
      "Missing value\n",
      "date                        0\n",
      "phu_num                     0\n",
      "outbreak_group              0\n",
      "number_ongoing_outbreaks    0\n",
      "dtype: int64\n"
     ]
    }
   ],
   "source": [
    "print_info(df_ongoing_outbreaks_phu)"
   ]
  },
  {
   "cell_type": "code",
   "execution_count": 16,
   "metadata": {},
   "outputs": [
    {
     "name": "stdout",
     "output_type": "stream",
     "text": [
      "Number of phu_nums: 34\n",
      "[2226, 2227, 2230, 2233, 2234, 2235, 2236, 2237, 2238, 2240, 2241, 2242, 2243, 2244, 2246, 2247, 2249, 2251, 2253, 2255, 2256, 2257, 2258, 2260, 2261, 2262, 2263, 2265, 2266, 2268, 2270, 3895, 4913, 5183]\n",
      "__________________________________________________________________________________________________________\n",
      "Number of outbreak_groups: 6\n",
      "Value counts                      outbreak_group\n",
      "1 Congregate Care             15522\n",
      "2 Congregate Living           12578\n",
      "3 Education                    8251\n",
      "4 Workplace                    9555\n",
      "5 Recreational                 6548\n",
      "6 Other/Unknown                4533\n",
      "__________________________________________________________________________________________________________\n"
     ]
    }
   ],
   "source": [
    "print_value(\"phu_num\", df_ongoing_outbreaks_phu, 0)\n",
    "print_value(\"outbreak_group\", df_ongoing_outbreaks_phu, True)"
   ]
  },
  {
   "attachments": {},
   "cell_type": "markdown",
   "metadata": {},
   "source": [
    "# Public health unit"
   ]
  },
  {
   "cell_type": "code",
   "execution_count": 17,
   "metadata": {},
   "outputs": [
    {
     "data": {
      "text/html": [
       "<div>\n",
       "<style scoped>\n",
       "    .dataframe tbody tr th:only-of-type {\n",
       "        vertical-align: middle;\n",
       "    }\n",
       "\n",
       "    .dataframe tbody tr th {\n",
       "        vertical-align: top;\n",
       "    }\n",
       "\n",
       "    .dataframe thead th {\n",
       "        text-align: right;\n",
       "    }\n",
       "</style>\n",
       "<table border=\"1\" class=\"dataframe\">\n",
       "  <thead>\n",
       "    <tr style=\"text-align: right;\">\n",
       "      <th></th>\n",
       "      <th>PHU_ID</th>\n",
       "      <th>Reporting_PHU</th>\n",
       "      <th>Reporting_PHU_Address</th>\n",
       "      <th>Reporting_PHU_City</th>\n",
       "      <th>Reporting_PHU_Postal_Code</th>\n",
       "      <th>Reporting_PHU_Website</th>\n",
       "      <th>Reporting_PHU_Latitude</th>\n",
       "      <th>Reporting_PHU_Longitude</th>\n",
       "    </tr>\n",
       "  </thead>\n",
       "  <tbody>\n",
       "    <tr>\n",
       "      <th>0</th>\n",
       "      <td>2244</td>\n",
       "      <td>Middlesex-London Health Unit</td>\n",
       "      <td>50 King Street</td>\n",
       "      <td>London</td>\n",
       "      <td>N6A 5L7</td>\n",
       "      <td>www.healthunit.com</td>\n",
       "      <td>4299571559</td>\n",
       "      <td>-814569832</td>\n",
       "    </tr>\n",
       "    <tr>\n",
       "      <th>1</th>\n",
       "      <td>2236</td>\n",
       "      <td>Halton Region Health Department</td>\n",
       "      <td>1151 Bronte Road</td>\n",
       "      <td>Oakville</td>\n",
       "      <td>L6M 3Ll</td>\n",
       "      <td>www.halton.ca/For-Residents/Public-Health/</td>\n",
       "      <td>4351209709</td>\n",
       "      <td>-7989050809</td>\n",
       "    </tr>\n",
       "    <tr>\n",
       "      <th>2</th>\n",
       "      <td>3895</td>\n",
       "      <td>Toronto Public Health</td>\n",
       "      <td>277 Victoria Street, 5th Floor</td>\n",
       "      <td>Toronto</td>\n",
       "      <td>M5B 1W2</td>\n",
       "      <td>www.toronto.ca/community-people/health-wellnes...</td>\n",
       "      <td>4372584482</td>\n",
       "      <td>-7938955775</td>\n",
       "    </tr>\n",
       "    <tr>\n",
       "      <th>3</th>\n",
       "      <td>5183</td>\n",
       "      <td>Huron Perth District Health Unit</td>\n",
       "      <td>653 West Gore Street</td>\n",
       "      <td>Stratford</td>\n",
       "      <td>N5A 1L4</td>\n",
       "      <td>www.hpph.ca</td>\n",
       "      <td>4360051407</td>\n",
       "      <td>-8128148453</td>\n",
       "    </tr>\n",
       "    <tr>\n",
       "      <th>4</th>\n",
       "      <td>2266</td>\n",
       "      <td>Wellington-Dufferin-Guelph Public Health</td>\n",
       "      <td>160 Chancellors Way</td>\n",
       "      <td>Guelph</td>\n",
       "      <td>N1G 0E1</td>\n",
       "      <td>www.wdgpublichealth.ca</td>\n",
       "      <td>4385364154</td>\n",
       "      <td>-8037208498</td>\n",
       "    </tr>\n",
       "  </tbody>\n",
       "</table>\n",
       "</div>"
      ],
      "text/plain": [
       "   PHU_ID                             Reporting_PHU  \\\n",
       "0    2244              Middlesex-London Health Unit   \n",
       "1    2236           Halton Region Health Department   \n",
       "2    3895                     Toronto Public Health   \n",
       "3    5183          Huron Perth District Health Unit   \n",
       "4    2266  Wellington-Dufferin-Guelph Public Health   \n",
       "\n",
       "            Reporting_PHU_Address Reporting_PHU_City  \\\n",
       "0                  50 King Street             London   \n",
       "1                1151 Bronte Road           Oakville   \n",
       "2  277 Victoria Street, 5th Floor            Toronto   \n",
       "3            653 West Gore Street          Stratford   \n",
       "4             160 Chancellors Way             Guelph   \n",
       "\n",
       "  Reporting_PHU_Postal_Code  \\\n",
       "0                   N6A 5L7   \n",
       "1                   L6M 3Ll   \n",
       "2                   M5B 1W2   \n",
       "3                   N5A 1L4   \n",
       "4                   N1G 0E1   \n",
       "\n",
       "                               Reporting_PHU_Website  Reporting_PHU_Latitude  \\\n",
       "0                                 www.healthunit.com              4299571559   \n",
       "1         www.halton.ca/For-Residents/Public-Health/              4351209709   \n",
       "2  www.toronto.ca/community-people/health-wellnes...              4372584482   \n",
       "3                                        www.hpph.ca              4360051407   \n",
       "4                             www.wdgpublichealth.ca              4385364154   \n",
       "\n",
       "   Reporting_PHU_Longitude  \n",
       "0               -814569832  \n",
       "1              -7989050809  \n",
       "2              -7938955775  \n",
       "3              -8128148453  \n",
       "4              -8037208498  "
      ]
     },
     "execution_count": 17,
     "metadata": {},
     "output_type": "execute_result"
    }
   ],
   "source": [
    "df_Public_health_unit = pd.read_excel(\"./data/Public health unit.xls\")\n",
    "df_Public_health_unit.head()"
   ]
  },
  {
   "cell_type": "code",
   "execution_count": 18,
   "metadata": {},
   "outputs": [
    {
     "name": "stdout",
     "output_type": "stream",
     "text": [
      "Not duplicated: False\n",
      "Shape = (35, 8)\n",
      "Missing value\n",
      "PHU_ID                       0\n",
      "Reporting_PHU                0\n",
      "Reporting_PHU_Address        0\n",
      "Reporting_PHU_City           0\n",
      "Reporting_PHU_Postal_Code    0\n",
      "Reporting_PHU_Website        0\n",
      "Reporting_PHU_Latitude       0\n",
      "Reporting_PHU_Longitude      0\n",
      "dtype: int64\n"
     ]
    }
   ],
   "source": [
    "print_info(df_Public_health_unit)"
   ]
  },
  {
   "cell_type": "code",
   "execution_count": 19,
   "metadata": {},
   "outputs": [
    {
     "name": "stdout",
     "output_type": "stream",
     "text": [
      "False    34\n",
      "True      1\n",
      "dtype: int64\n",
      "The value that duplicated: [[2244 'Middlesex-London Health Unit' '50 King Street' 'London' 'N6A 5L7'\n",
      "  'www.healthunit.com' 4299571559 -814569832]]\n",
      "The line that duplicated\n"
     ]
    },
    {
     "data": {
      "text/html": [
       "<div>\n",
       "<style scoped>\n",
       "    .dataframe tbody tr th:only-of-type {\n",
       "        vertical-align: middle;\n",
       "    }\n",
       "\n",
       "    .dataframe tbody tr th {\n",
       "        vertical-align: top;\n",
       "    }\n",
       "\n",
       "    .dataframe thead th {\n",
       "        text-align: right;\n",
       "    }\n",
       "</style>\n",
       "<table border=\"1\" class=\"dataframe\">\n",
       "  <thead>\n",
       "    <tr style=\"text-align: right;\">\n",
       "      <th></th>\n",
       "      <th>PHU_ID</th>\n",
       "      <th>Reporting_PHU</th>\n",
       "      <th>Reporting_PHU_Address</th>\n",
       "      <th>Reporting_PHU_City</th>\n",
       "      <th>Reporting_PHU_Postal_Code</th>\n",
       "      <th>Reporting_PHU_Website</th>\n",
       "      <th>Reporting_PHU_Latitude</th>\n",
       "      <th>Reporting_PHU_Longitude</th>\n",
       "    </tr>\n",
       "  </thead>\n",
       "  <tbody>\n",
       "    <tr>\n",
       "      <th>0</th>\n",
       "      <td>2244</td>\n",
       "      <td>Middlesex-London Health Unit</td>\n",
       "      <td>50 King Street</td>\n",
       "      <td>London</td>\n",
       "      <td>N6A 5L7</td>\n",
       "      <td>www.healthunit.com</td>\n",
       "      <td>4299571559</td>\n",
       "      <td>-814569832</td>\n",
       "    </tr>\n",
       "    <tr>\n",
       "      <th>34</th>\n",
       "      <td>2244</td>\n",
       "      <td>Middlesex-London Health Unit</td>\n",
       "      <td>50 King Street</td>\n",
       "      <td>London</td>\n",
       "      <td>N6A 5L7</td>\n",
       "      <td>www.healthunit.com</td>\n",
       "      <td>4299571559</td>\n",
       "      <td>-814569832</td>\n",
       "    </tr>\n",
       "  </tbody>\n",
       "</table>\n",
       "</div>"
      ],
      "text/plain": [
       "    PHU_ID                 Reporting_PHU Reporting_PHU_Address  \\\n",
       "0     2244  Middlesex-London Health Unit        50 King Street   \n",
       "34    2244  Middlesex-London Health Unit        50 King Street   \n",
       "\n",
       "   Reporting_PHU_City Reporting_PHU_Postal_Code Reporting_PHU_Website  \\\n",
       "0              London                   N6A 5L7    www.healthunit.com   \n",
       "34             London                   N6A 5L7    www.healthunit.com   \n",
       "\n",
       "    Reporting_PHU_Latitude  Reporting_PHU_Longitude  \n",
       "0               4299571559               -814569832  \n",
       "34              4299571559               -814569832  "
      ]
     },
     "execution_count": 19,
     "metadata": {},
     "output_type": "execute_result"
    }
   ],
   "source": [
    "print(df_Public_health_unit.duplicated().value_counts())\n",
    "print(\"The value that duplicated:\",df_Public_health_unit[df_Public_health_unit.duplicated()].values)\n",
    "print(\"The line that duplicated\")\n",
    "df_Public_health_unit[df_Public_health_unit['PHU_ID'] == 2244]"
   ]
  },
  {
   "cell_type": "code",
   "execution_count": 20,
   "metadata": {},
   "outputs": [
    {
     "name": "stdout",
     "output_type": "stream",
     "text": [
      "Number of PHU_IDs: 34\n",
      "[2226, 2227, 2230, 2233, 2234, 2235, 2236, 2237, 2238, 2240, 2241, 2242, 2243, 2244, 2246, 2247, 2249, 2251, 2253, 2255, 2256, 2257, 2258, 2260, 2261, 2262, 2263, 2265, 2266, 2268, 2270, 3895, 4913, 5183]\n",
      "__________________________________________________________________________________________________________\n",
      "Number of Reporting_PHUs: 34\n",
      "['Algoma Public Health Unit', 'Brant County Health Unit', 'Chatham-Kent Health Unit', 'Durham Region Health Department', 'Eastern Ontario Health Unit', 'Grey Bruce Health Unit', 'Haldimand-Norfolk Health Unit', 'Haliburton, Kawartha, Pine Ridge District Health Unit', 'Halton Region Health Department', 'Hamilton Public Health Services', 'Hastings and Prince Edward Counties Health Unit', 'Huron Perth District Health Unit', 'Kingston, Frontenac and Lennox & Addington Public Health', 'Lambton Public Health', 'Leeds, Grenville and Lanark District Health Unit', 'Middlesex-London Health Unit', 'Niagara Region Public Health Department', 'North Bay Parry Sound District Health Unit', 'Northwestern Health Unit', 'Ottawa Public Health', 'Peel Public Health', 'Peterborough Public Health', 'Porcupine Health Unit', 'Region of Waterloo, Public Health', 'Renfrew County and District Health Unit', 'Simcoe Muskoka District Health Unit', 'Southwestern Public Health', 'Sudbury & District Health Unit', 'Thunder Bay District Health Unit', 'Timiskaming Health Unit', 'Toronto Public Health', 'Wellington-Dufferin-Guelph Public Health', 'Windsor-Essex County Health Unit', 'York Region Public Health Services']\n",
      "__________________________________________________________________________________________________________\n",
      "Number of Reporting_PHU_Citys: 34\n",
      "['Barrie', 'Belleville', 'Brantford', 'Brockville', 'Chatham', 'Cornwall', 'Guelph', 'Hamilton', 'Kenora', 'Kingston', 'London', 'Mississauga', 'New Liskeard', 'Newmarket', 'North Bay', 'Oakville', 'Ottawa', 'Owen Sound', 'Pembroke', 'Peterborough', 'Point Edward', 'Port Hope', 'Sault Ste. Marie', 'Simcoe', 'St. Thomas', 'Stratford', 'Sudbury', 'Thorold', 'Thunder Bay', 'Timmins', 'Toronto', 'Waterloo', 'Whitby', 'Windsor']\n",
      "__________________________________________________________________________________________________________\n"
     ]
    }
   ],
   "source": [
    "print_value(\"PHU_ID\", df_Public_health_unit, 0)\n",
    "print_value(\"Reporting_PHU\", df_Public_health_unit, 0)\n",
    "print_value(\"Reporting_PHU_City\", df_Public_health_unit, 0)"
   ]
  },
  {
   "attachments": {},
   "cell_type": "markdown",
   "metadata": {},
   "source": [
    "# Public Health Units GROUP"
   ]
  },
  {
   "cell_type": "code",
   "execution_count": 21,
   "metadata": {},
   "outputs": [
    {
     "data": {
      "text/html": [
       "<div>\n",
       "<style scoped>\n",
       "    .dataframe tbody tr th:only-of-type {\n",
       "        vertical-align: middle;\n",
       "    }\n",
       "\n",
       "    .dataframe tbody tr th {\n",
       "        vertical-align: top;\n",
       "    }\n",
       "\n",
       "    .dataframe thead th {\n",
       "        text-align: right;\n",
       "    }\n",
       "</style>\n",
       "<table border=\"1\" class=\"dataframe\">\n",
       "  <thead>\n",
       "    <tr style=\"text-align: right;\">\n",
       "      <th></th>\n",
       "      <th>PHU_Group</th>\n",
       "      <th>PHU_City</th>\n",
       "      <th>PHU_region</th>\n",
       "    </tr>\n",
       "  </thead>\n",
       "  <tbody>\n",
       "    <tr>\n",
       "      <th>0</th>\n",
       "      <td>Central</td>\n",
       "      <td>Toronto</td>\n",
       "      <td>Toronto Public Health</td>\n",
       "    </tr>\n",
       "    <tr>\n",
       "      <th>1</th>\n",
       "      <td>Central</td>\n",
       "      <td>Newmarket</td>\n",
       "      <td>York Region Public Health Services</td>\n",
       "    </tr>\n",
       "    <tr>\n",
       "      <th>2</th>\n",
       "      <td>Central East</td>\n",
       "      <td>Durham Region</td>\n",
       "      <td>Durham Region Health Department</td>\n",
       "    </tr>\n",
       "    <tr>\n",
       "      <th>3</th>\n",
       "      <td>Central East</td>\n",
       "      <td>Port Hope</td>\n",
       "      <td>Haliburton, Kawartha, Pine Ridge District Heal...</td>\n",
       "    </tr>\n",
       "    <tr>\n",
       "      <th>4</th>\n",
       "      <td>Central East</td>\n",
       "      <td>Peterborough</td>\n",
       "      <td>Peterborough Public Health</td>\n",
       "    </tr>\n",
       "  </tbody>\n",
       "</table>\n",
       "</div>"
      ],
      "text/plain": [
       "      PHU_Group       PHU_City  \\\n",
       "0       Central        Toronto   \n",
       "1       Central      Newmarket   \n",
       "2  Central East  Durham Region   \n",
       "3  Central East      Port Hope   \n",
       "4  Central East   Peterborough   \n",
       "\n",
       "                                          PHU_region  \n",
       "0                              Toronto Public Health  \n",
       "1                 York Region Public Health Services  \n",
       "2                    Durham Region Health Department  \n",
       "3  Haliburton, Kawartha, Pine Ridge District Heal...  \n",
       "4                         Peterborough Public Health  "
      ]
     },
     "execution_count": 21,
     "metadata": {},
     "output_type": "execute_result"
    }
   ],
   "source": [
    "df_Public_Health_Units_GROUP = pd.read_excel(\"./data/Public Health Units GROUP.xls\")\n",
    "df_Public_Health_Units_GROUP.head()"
   ]
  },
  {
   "cell_type": "code",
   "execution_count": 22,
   "metadata": {},
   "outputs": [
    {
     "name": "stdout",
     "output_type": "stream",
     "text": [
      "Not duplicated: True\n",
      "Shape = (34, 3)\n",
      "Missing value\n",
      "PHU_Group     0\n",
      "PHU_City      0\n",
      "PHU_region    0\n",
      "dtype: int64\n"
     ]
    }
   ],
   "source": [
    "print_info(df_Public_Health_Units_GROUP)"
   ]
  },
  {
   "cell_type": "code",
   "execution_count": 23,
   "metadata": {},
   "outputs": [
    {
     "name": "stdout",
     "output_type": "stream",
     "text": [
      "Number of PHU_Groups: 13\n",
      "['Central', 'Central East', 'Central West', 'Champlain', 'Erie St. Clair', 'Hamilton Niagara Haldimand Brant', 'Mississauga Halton', 'North East', 'North Simcoe Muskoka', 'North West', 'South East', 'South West', 'Waterloo Wellington']\n",
      "__________________________________________________________________________________________________________\n",
      "Number of PHU_Citys: 34\n",
      "['Barrie', 'Belleville', 'Brantford', 'Brockville', 'Chatham', 'Cornwall', 'Durham Region', 'Fergus', 'Hamilton', 'Kenora', 'Kingston', 'London', 'Mississauga', 'New Liskeard', 'Newmarket', 'North Bay', 'Oakville', 'Ottawa', 'Owen Sound', 'Pembroke', 'Peterborough', 'Point Edward', 'Port Hope', 'Sault Ste. Marie', 'Simcoe', 'St. Thomas', 'Stratford', 'Sudbury', 'Thorold', 'Thunder Bay', 'Timmins', 'Toronto', 'Waterloo', 'Windsor']\n",
      "__________________________________________________________________________________________________________\n",
      "Number of PHU_regions: 34\n",
      "['Algoma Public Health Unit', 'Brant County Health Unit', 'Chatham-Kent Health Unit', 'Durham Region Health Department', 'Eastern Ontario Health Unit', 'Grey Bruce Health Unit', 'Haldimand-Norfolk Health Unit', 'Haliburton, Kawartha, Pine Ridge District Health Unit', 'Halton Region Health Department', 'Hamilton Public Health Services', 'Hastings and Prince Edward Counties Health Unit', 'Huron Perth Health Unit', 'Kingston, Frontenac and Lennox & Addington Health Unit', 'Lambton Health Unit', 'Leeds, Grenville and Lanark District Health Unit', 'Middlesex-London Health Unit', 'Niagara Region Public Health Department', 'North Bay Parry Sound District Health Unit', 'Northwestern Health Unit', 'Ottawa Public Health', 'Peel Public Health', 'Peterborough Public Health', 'Porcupine Health Unit', 'Region of Waterloo, Public Health', 'Renfrew County and District Health Unit', 'Simcoe Muskoka District Health Unit', 'Southwestern Public Health', 'Sudbury and District Health Unit', 'Thunder Bay District Health Unit', 'Timiskaming Health Unit', 'Toronto Public Health', 'Wellington-Dufferin-Guelph Health Unit', 'Windsor-Essex County Health Unit', 'York Region Public Health Services']\n",
      "__________________________________________________________________________________________________________\n"
     ]
    }
   ],
   "source": [
    "print_value(\"PHU_Group\", df_Public_Health_Units_GROUP, 0)\n",
    "print_value(\"PHU_City\", df_Public_Health_Units_GROUP, 0)\n",
    "print_value(\"PHU_region\", df_Public_Health_Units_GROUP, 0)"
   ]
  },
  {
   "attachments": {},
   "cell_type": "markdown",
   "metadata": {},
   "source": [
    "### Mapping 'Public_health_unit' vs 'Public_Health_Units_GROUP' = \"City\""
   ]
  },
  {
   "cell_type": "code",
   "execution_count": 24,
   "metadata": {},
   "outputs": [
    {
     "data": {
      "text/plain": [
       "4    Guelph\n",
       "9    Whitby\n",
       "Name: Reporting_PHU_City, dtype: object"
      ]
     },
     "execution_count": 24,
     "metadata": {},
     "output_type": "execute_result"
    }
   ],
   "source": [
    "df_Public_health_unit[df_Public_health_unit['Reporting_PHU_City'].isin(df_Public_Health_Units_GROUP['PHU_City']) == False]['Reporting_PHU_City']"
   ]
  },
  {
   "cell_type": "code",
   "execution_count": 25,
   "metadata": {},
   "outputs": [
    {
     "data": {
      "text/html": [
       "<div>\n",
       "<style scoped>\n",
       "    .dataframe tbody tr th:only-of-type {\n",
       "        vertical-align: middle;\n",
       "    }\n",
       "\n",
       "    .dataframe tbody tr th {\n",
       "        vertical-align: top;\n",
       "    }\n",
       "\n",
       "    .dataframe thead th {\n",
       "        text-align: right;\n",
       "    }\n",
       "</style>\n",
       "<table border=\"1\" class=\"dataframe\">\n",
       "  <thead>\n",
       "    <tr style=\"text-align: right;\">\n",
       "      <th></th>\n",
       "      <th>PHU_ID</th>\n",
       "      <th>Reporting_PHU</th>\n",
       "      <th>Reporting_PHU_Address</th>\n",
       "      <th>Reporting_PHU_City</th>\n",
       "      <th>Reporting_PHU_Postal_Code</th>\n",
       "      <th>Reporting_PHU_Website</th>\n",
       "      <th>Reporting_PHU_Latitude</th>\n",
       "      <th>Reporting_PHU_Longitude</th>\n",
       "    </tr>\n",
       "  </thead>\n",
       "  <tbody>\n",
       "    <tr>\n",
       "      <th>4</th>\n",
       "      <td>2266</td>\n",
       "      <td>Wellington-Dufferin-Guelph Public Health</td>\n",
       "      <td>160 Chancellors Way</td>\n",
       "      <td>Guelph</td>\n",
       "      <td>N1G 0E1</td>\n",
       "      <td>www.wdgpublichealth.ca</td>\n",
       "      <td>4385364154</td>\n",
       "      <td>-8037208498</td>\n",
       "    </tr>\n",
       "    <tr>\n",
       "      <th>9</th>\n",
       "      <td>2230</td>\n",
       "      <td>Durham Region Health Department</td>\n",
       "      <td>605 Rossland Road East</td>\n",
       "      <td>Whitby</td>\n",
       "      <td>L1N 0B2</td>\n",
       "      <td>www.durham.ca/en/health-and-wellness/health-an...</td>\n",
       "      <td>4403514967</td>\n",
       "      <td>-7888249823</td>\n",
       "    </tr>\n",
       "  </tbody>\n",
       "</table>\n",
       "</div>"
      ],
      "text/plain": [
       "   PHU_ID                             Reporting_PHU   Reporting_PHU_Address  \\\n",
       "4    2266  Wellington-Dufferin-Guelph Public Health     160 Chancellors Way   \n",
       "9    2230           Durham Region Health Department  605 Rossland Road East   \n",
       "\n",
       "  Reporting_PHU_City Reporting_PHU_Postal_Code  \\\n",
       "4             Guelph                   N1G 0E1   \n",
       "9             Whitby                   L1N 0B2   \n",
       "\n",
       "                               Reporting_PHU_Website  Reporting_PHU_Latitude  \\\n",
       "4                             www.wdgpublichealth.ca              4385364154   \n",
       "9  www.durham.ca/en/health-and-wellness/health-an...              4403514967   \n",
       "\n",
       "   Reporting_PHU_Longitude  \n",
       "4              -8037208498  \n",
       "9              -7888249823  "
      ]
     },
     "execution_count": 25,
     "metadata": {},
     "output_type": "execute_result"
    }
   ],
   "source": [
    "df_Public_health_unit[(df_Public_health_unit['Reporting_PHU_City'] == 'Guelph')\n",
    "                    | (df_Public_health_unit['Reporting_PHU_City'] == 'Whitby')]"
   ]
  },
  {
   "cell_type": "code",
   "execution_count": 26,
   "metadata": {},
   "outputs": [
    {
     "data": {
      "text/plain": [
       "2    Durham Region\n",
       "5           Fergus\n",
       "Name: PHU_City, dtype: object"
      ]
     },
     "execution_count": 26,
     "metadata": {},
     "output_type": "execute_result"
    }
   ],
   "source": [
    "df_Public_Health_Units_GROUP[df_Public_Health_Units_GROUP['PHU_City'].isin(df_Public_health_unit['Reporting_PHU_City']) == False]['PHU_City']"
   ]
  },
  {
   "cell_type": "code",
   "execution_count": 27,
   "metadata": {},
   "outputs": [
    {
     "data": {
      "text/html": [
       "<div>\n",
       "<style scoped>\n",
       "    .dataframe tbody tr th:only-of-type {\n",
       "        vertical-align: middle;\n",
       "    }\n",
       "\n",
       "    .dataframe tbody tr th {\n",
       "        vertical-align: top;\n",
       "    }\n",
       "\n",
       "    .dataframe thead th {\n",
       "        text-align: right;\n",
       "    }\n",
       "</style>\n",
       "<table border=\"1\" class=\"dataframe\">\n",
       "  <thead>\n",
       "    <tr style=\"text-align: right;\">\n",
       "      <th></th>\n",
       "      <th>PHU_Group</th>\n",
       "      <th>PHU_City</th>\n",
       "      <th>PHU_region</th>\n",
       "    </tr>\n",
       "  </thead>\n",
       "  <tbody>\n",
       "    <tr>\n",
       "      <th>2</th>\n",
       "      <td>Central East</td>\n",
       "      <td>Durham Region</td>\n",
       "      <td>Durham Region Health Department</td>\n",
       "    </tr>\n",
       "    <tr>\n",
       "      <th>5</th>\n",
       "      <td>Central West</td>\n",
       "      <td>Fergus</td>\n",
       "      <td>Wellington-Dufferin-Guelph Health Unit</td>\n",
       "    </tr>\n",
       "  </tbody>\n",
       "</table>\n",
       "</div>"
      ],
      "text/plain": [
       "      PHU_Group       PHU_City                              PHU_region\n",
       "2  Central East  Durham Region         Durham Region Health Department\n",
       "5  Central West         Fergus  Wellington-Dufferin-Guelph Health Unit"
      ]
     },
     "execution_count": 27,
     "metadata": {},
     "output_type": "execute_result"
    }
   ],
   "source": [
    "df_Public_Health_Units_GROUP[(df_Public_Health_Units_GROUP['PHU_City'] == 'Durham Region')\n",
    "                    | (df_Public_Health_Units_GROUP['PHU_City'] == 'Fergus')]"
   ]
  },
  {
   "attachments": {},
   "cell_type": "markdown",
   "metadata": {},
   "source": [
    "# Vaccines_by_age_phu"
   ]
  },
  {
   "cell_type": "code",
   "execution_count": 28,
   "metadata": {},
   "outputs": [
    {
     "data": {
      "text/html": [
       "<div>\n",
       "<style scoped>\n",
       "    .dataframe tbody tr th:only-of-type {\n",
       "        vertical-align: middle;\n",
       "    }\n",
       "\n",
       "    .dataframe tbody tr th {\n",
       "        vertical-align: top;\n",
       "    }\n",
       "\n",
       "    .dataframe thead th {\n",
       "        text-align: right;\n",
       "    }\n",
       "</style>\n",
       "<table border=\"1\" class=\"dataframe\">\n",
       "  <thead>\n",
       "    <tr style=\"text-align: right;\">\n",
       "      <th></th>\n",
       "      <th>Date</th>\n",
       "      <th>PHU ID</th>\n",
       "      <th>Agegroup</th>\n",
       "      <th>At least one dose_cumulative</th>\n",
       "      <th>Second_dose_cumulative</th>\n",
       "      <th>fully_vaccinated_cumulative</th>\n",
       "      <th>third_dose_cumulative</th>\n",
       "    </tr>\n",
       "  </thead>\n",
       "  <tbody>\n",
       "    <tr>\n",
       "      <th>0</th>\n",
       "      <td>7/26/2021</td>\n",
       "      <td>2226</td>\n",
       "      <td>12-17yrs</td>\n",
       "      <td>3843.0</td>\n",
       "      <td>1890.0</td>\n",
       "      <td>NaN</td>\n",
       "      <td>NaN</td>\n",
       "    </tr>\n",
       "    <tr>\n",
       "      <th>1</th>\n",
       "      <td>7/26/2021</td>\n",
       "      <td>2227</td>\n",
       "      <td>12-17yrs</td>\n",
       "      <td>6306.0</td>\n",
       "      <td>3567.0</td>\n",
       "      <td>NaN</td>\n",
       "      <td>NaN</td>\n",
       "    </tr>\n",
       "    <tr>\n",
       "      <th>2</th>\n",
       "      <td>7/26/2021</td>\n",
       "      <td>2230</td>\n",
       "      <td>12-17yrs</td>\n",
       "      <td>34025.0</td>\n",
       "      <td>16953.0</td>\n",
       "      <td>NaN</td>\n",
       "      <td>NaN</td>\n",
       "    </tr>\n",
       "    <tr>\n",
       "      <th>3</th>\n",
       "      <td>7/26/2021</td>\n",
       "      <td>2233</td>\n",
       "      <td>12-17yrs</td>\n",
       "      <td>5533.0</td>\n",
       "      <td>3627.0</td>\n",
       "      <td>NaN</td>\n",
       "      <td>NaN</td>\n",
       "    </tr>\n",
       "    <tr>\n",
       "      <th>4</th>\n",
       "      <td>7/26/2021</td>\n",
       "      <td>2234</td>\n",
       "      <td>12-17yrs</td>\n",
       "      <td>3125.0</td>\n",
       "      <td>1711.0</td>\n",
       "      <td>NaN</td>\n",
       "      <td>NaN</td>\n",
       "    </tr>\n",
       "  </tbody>\n",
       "</table>\n",
       "</div>"
      ],
      "text/plain": [
       "        Date  PHU ID  Agegroup  At least one dose_cumulative  \\\n",
       "0  7/26/2021    2226  12-17yrs                        3843.0   \n",
       "1  7/26/2021    2227  12-17yrs                        6306.0   \n",
       "2  7/26/2021    2230  12-17yrs                       34025.0   \n",
       "3  7/26/2021    2233  12-17yrs                        5533.0   \n",
       "4  7/26/2021    2234  12-17yrs                        3125.0   \n",
       "\n",
       "   Second_dose_cumulative  fully_vaccinated_cumulative  third_dose_cumulative  \n",
       "0                  1890.0                          NaN                    NaN  \n",
       "1                  3567.0                          NaN                    NaN  \n",
       "2                 16953.0                          NaN                    NaN  \n",
       "3                  3627.0                          NaN                    NaN  \n",
       "4                  1711.0                          NaN                    NaN  "
      ]
     },
     "execution_count": 28,
     "metadata": {},
     "output_type": "execute_result"
    }
   ],
   "source": [
    "df_vaccines_by_age_phu = pd.read_csv(\"./data/vaccines_by_age_phu.csv\")\n",
    "df_vaccines_by_age_phu.head()"
   ]
  },
  {
   "cell_type": "code",
   "execution_count": 29,
   "metadata": {},
   "outputs": [
    {
     "name": "stdout",
     "output_type": "stream",
     "text": [
      "Not duplicated: True\n",
      "Shape = (171182, 7)\n",
      "Missing value\n",
      "Date                                 0\n",
      "PHU ID                               0\n",
      "Agegroup                             0\n",
      "At least one dose_cumulative       211\n",
      "Second_dose_cumulative          122540\n",
      "fully_vaccinated_cumulative      49270\n",
      "third_dose_cumulative            65167\n",
      "dtype: int64\n"
     ]
    }
   ],
   "source": [
    "print_info(df_vaccines_by_age_phu)"
   ]
  },
  {
   "cell_type": "code",
   "execution_count": 30,
   "metadata": {},
   "outputs": [
    {
     "name": "stdout",
     "output_type": "stream",
     "text": [
      "Number of PHU IDs: 35\n",
      "[2226, 2227, 2230, 2233, 2234, 2235, 2236, 2237, 2238, 2240, 2241, 2242, 2243, 2244, 2246, 2247, 2249, 2251, 2253, 2255, 2256, 2257, 2258, 2260, 2261, 2262, 2263, 2265, 2266, 2268, 2270, 3895, 4913, 5183, 9999]\n",
      "__________________________________________________________________________________________________________\n",
      "Number of Agegroups: 13\n",
      "['05-11yrs', '12-17yrs', '18-29yrs', '30-39yrs', '40-49yrs', '50-59yrs', '60-69yrs', '70-79yrs', '80+', 'Adults_18plus', 'Ontario_12plus', 'Ontario_5plus', 'Undisclosed_or_missing']\n",
      "__________________________________________________________________________________________________________\n"
     ]
    }
   ],
   "source": [
    "print_value(\"PHU ID\", df_vaccines_by_age_phu, 0)\n",
    "print_value(\"Agegroup\", df_vaccines_by_age_phu, 0)"
   ]
  },
  {
   "cell_type": "code",
   "execution_count": 31,
   "metadata": {},
   "outputs": [
    {
     "data": {
      "text/html": [
       "<div>\n",
       "<style scoped>\n",
       "    .dataframe tbody tr th:only-of-type {\n",
       "        vertical-align: middle;\n",
       "    }\n",
       "\n",
       "    .dataframe tbody tr th {\n",
       "        vertical-align: top;\n",
       "    }\n",
       "\n",
       "    .dataframe thead th {\n",
       "        text-align: right;\n",
       "    }\n",
       "</style>\n",
       "<table border=\"1\" class=\"dataframe\">\n",
       "  <thead>\n",
       "    <tr style=\"text-align: right;\">\n",
       "      <th></th>\n",
       "      <th>Date</th>\n",
       "      <th>PHU ID</th>\n",
       "      <th>Agegroup</th>\n",
       "      <th>At least one dose_cumulative</th>\n",
       "      <th>Second_dose_cumulative</th>\n",
       "      <th>fully_vaccinated_cumulative</th>\n",
       "      <th>third_dose_cumulative</th>\n",
       "    </tr>\n",
       "  </thead>\n",
       "  <tbody>\n",
       "    <tr>\n",
       "      <th>34</th>\n",
       "      <td>7/26/2021</td>\n",
       "      <td>9999</td>\n",
       "      <td>12-17yrs</td>\n",
       "      <td>207.0</td>\n",
       "      <td>20.0</td>\n",
       "      <td>NaN</td>\n",
       "      <td>NaN</td>\n",
       "    </tr>\n",
       "    <tr>\n",
       "      <th>69</th>\n",
       "      <td>7/26/2021</td>\n",
       "      <td>9999</td>\n",
       "      <td>18-29yrs</td>\n",
       "      <td>1313.0</td>\n",
       "      <td>135.0</td>\n",
       "      <td>NaN</td>\n",
       "      <td>NaN</td>\n",
       "    </tr>\n",
       "    <tr>\n",
       "      <th>104</th>\n",
       "      <td>7/26/2021</td>\n",
       "      <td>9999</td>\n",
       "      <td>30-39yrs</td>\n",
       "      <td>932.0</td>\n",
       "      <td>138.0</td>\n",
       "      <td>NaN</td>\n",
       "      <td>NaN</td>\n",
       "    </tr>\n",
       "    <tr>\n",
       "      <th>139</th>\n",
       "      <td>7/26/2021</td>\n",
       "      <td>9999</td>\n",
       "      <td>40-49yrs</td>\n",
       "      <td>507.0</td>\n",
       "      <td>97.0</td>\n",
       "      <td>NaN</td>\n",
       "      <td>NaN</td>\n",
       "    </tr>\n",
       "    <tr>\n",
       "      <th>174</th>\n",
       "      <td>7/26/2021</td>\n",
       "      <td>9999</td>\n",
       "      <td>50-59yrs</td>\n",
       "      <td>495.0</td>\n",
       "      <td>113.0</td>\n",
       "      <td>NaN</td>\n",
       "      <td>NaN</td>\n",
       "    </tr>\n",
       "    <tr>\n",
       "      <th>...</th>\n",
       "      <td>...</td>\n",
       "      <td>...</td>\n",
       "      <td>...</td>\n",
       "      <td>...</td>\n",
       "      <td>...</td>\n",
       "      <td>...</td>\n",
       "      <td>...</td>\n",
       "    </tr>\n",
       "    <tr>\n",
       "      <th>171041</th>\n",
       "      <td>8/25/2022</td>\n",
       "      <td>9999</td>\n",
       "      <td>80+</td>\n",
       "      <td>218.0</td>\n",
       "      <td>NaN</td>\n",
       "      <td>185.0</td>\n",
       "      <td>29.0</td>\n",
       "    </tr>\n",
       "    <tr>\n",
       "      <th>171076</th>\n",
       "      <td>8/25/2022</td>\n",
       "      <td>9999</td>\n",
       "      <td>Adults_18plus</td>\n",
       "      <td>35068.0</td>\n",
       "      <td>NaN</td>\n",
       "      <td>23845.0</td>\n",
       "      <td>2303.0</td>\n",
       "    </tr>\n",
       "    <tr>\n",
       "      <th>171111</th>\n",
       "      <td>8/25/2022</td>\n",
       "      <td>9999</td>\n",
       "      <td>Ontario_12plus</td>\n",
       "      <td>36351.0</td>\n",
       "      <td>NaN</td>\n",
       "      <td>24578.0</td>\n",
       "      <td>2331.0</td>\n",
       "    </tr>\n",
       "    <tr>\n",
       "      <th>171146</th>\n",
       "      <td>8/25/2022</td>\n",
       "      <td>9999</td>\n",
       "      <td>Ontario_5plus</td>\n",
       "      <td>36414.0</td>\n",
       "      <td>NaN</td>\n",
       "      <td>24638.0</td>\n",
       "      <td>2331.0</td>\n",
       "    </tr>\n",
       "    <tr>\n",
       "      <th>171181</th>\n",
       "      <td>8/25/2022</td>\n",
       "      <td>9999</td>\n",
       "      <td>Undisclosed_or_missing</td>\n",
       "      <td>100.0</td>\n",
       "      <td>NaN</td>\n",
       "      <td>54.0</td>\n",
       "      <td>6.0</td>\n",
       "    </tr>\n",
       "  </tbody>\n",
       "</table>\n",
       "<p>4865 rows × 7 columns</p>\n",
       "</div>"
      ],
      "text/plain": [
       "             Date  PHU ID                Agegroup  \\\n",
       "34      7/26/2021    9999                12-17yrs   \n",
       "69      7/26/2021    9999                18-29yrs   \n",
       "104     7/26/2021    9999                30-39yrs   \n",
       "139     7/26/2021    9999                40-49yrs   \n",
       "174     7/26/2021    9999                50-59yrs   \n",
       "...           ...     ...                     ...   \n",
       "171041  8/25/2022    9999                     80+   \n",
       "171076  8/25/2022    9999           Adults_18plus   \n",
       "171111  8/25/2022    9999          Ontario_12plus   \n",
       "171146  8/25/2022    9999           Ontario_5plus   \n",
       "171181  8/25/2022    9999  Undisclosed_or_missing   \n",
       "\n",
       "        At least one dose_cumulative  Second_dose_cumulative  \\\n",
       "34                             207.0                    20.0   \n",
       "69                            1313.0                   135.0   \n",
       "104                            932.0                   138.0   \n",
       "139                            507.0                    97.0   \n",
       "174                            495.0                   113.0   \n",
       "...                              ...                     ...   \n",
       "171041                         218.0                     NaN   \n",
       "171076                       35068.0                     NaN   \n",
       "171111                       36351.0                     NaN   \n",
       "171146                       36414.0                     NaN   \n",
       "171181                         100.0                     NaN   \n",
       "\n",
       "        fully_vaccinated_cumulative  third_dose_cumulative  \n",
       "34                              NaN                    NaN  \n",
       "69                              NaN                    NaN  \n",
       "104                             NaN                    NaN  \n",
       "139                             NaN                    NaN  \n",
       "174                             NaN                    NaN  \n",
       "...                             ...                    ...  \n",
       "171041                        185.0                   29.0  \n",
       "171076                      23845.0                 2303.0  \n",
       "171111                      24578.0                 2331.0  \n",
       "171146                      24638.0                 2331.0  \n",
       "171181                         54.0                    6.0  \n",
       "\n",
       "[4865 rows x 7 columns]"
      ]
     },
     "execution_count": 31,
     "metadata": {},
     "output_type": "execute_result"
    }
   ],
   "source": [
    "df_vaccines_by_age_phu[df_vaccines_by_age_phu['PHU ID'] == 9999]"
   ]
  },
  {
   "attachments": {},
   "cell_type": "markdown",
   "metadata": {},
   "source": [
    "-> ID = 9999 không phải outlier"
   ]
  },
  {
   "attachments": {},
   "cell_type": "markdown",
   "metadata": {},
   "source": [
    "# SUMMARY"
   ]
  },
  {
   "cell_type": "code",
   "execution_count": 32,
   "metadata": {},
   "outputs": [
    {
     "name": "stdout",
     "output_type": "stream",
     "text": [
      "['80s' '<20' '20s' '30s' '40s' '70s' '60s' '50s' '90+']\n",
      "['20-29', '40-49', '30-39', '<20', '50-59', '60-69', '80+', '70-79', 'Not Reported']\n"
     ]
    }
   ],
   "source": [
    "print(df_cases_report['Age'].unique())\n",
    "print(df_Compiled_COVID_19_Case_Details_Canada['age_group'].unique().tolist())"
   ]
  },
  {
   "cell_type": "code",
   "execution_count": 33,
   "metadata": {},
   "outputs": [],
   "source": [
    "phu_1 = df_Public_health_unit['Reporting_PHU'].tolist()\n",
    "phu_2 = df_Public_Health_Units_GROUP['PHU_region'].tolist()\n",
    "phu_3 = df_cases_report['Reporting PHU'].unique().tolist()\n",
    "phu_4 = df_Compiled_COVID_19_Case_Details_Canada['health_region'].unique().tolist()\n",
    "\n",
    "for i in range(len(phu_1)):\n",
    "    phu_1[i] = phu_1[i].replace('Health Unit', 'Public Health')\n",
    "    phu_1[i] = phu_1[i].replace(' &', ',')\n",
    "    phu_1[i] = phu_1[i].replace(' and', ',')\n",
    "    phu_1[i] = phu_1[i].replace(' District', '')\n",
    "\n",
    "# REPLACE(REPLACE(REPLACE(REPLACE( [Reporting PHU] , \"Health Unit\", \"Public Health\"), \" &\", \",\"), \" and\", \",\"), \" District\", \"\")\n",
    "\n",
    "for i in range(len(phu_2)):\n",
    "    phu_2[i] = phu_2[i].replace('Health Unit', 'Public Health')\n",
    "    phu_2[i] = phu_2[i].replace(' &', ',')\n",
    "    phu_2[i] = phu_2[i].replace(' and', ',')\n",
    "    phu_2[i] = phu_2[i].replace(' District', '')\n",
    "\n",
    "for i in range(len(phu_3)):\n",
    "    phu_3[i] = phu_3[i].replace('Health Unit', 'Public Health')\n",
    "    phu_3[i] = phu_3[i].replace(' &', ',')\n",
    "    phu_3[i] = phu_3[i].replace(' and', ',')\n",
    "    phu_3[i] = phu_3[i].replace(' District', '')\n",
    "\n",
    "for i in range(len(phu_4)):\n",
    "    phu_4[i] = phu_4[i].replace('Health Unit', 'Public Health')\n",
    "    phu_4[i] = phu_4[i].replace(' &', ',')\n",
    "    phu_4[i] = phu_4[i].replace(' and', ',')\n",
    "    phu_4[i] = phu_4[i].replace(' District', '')\n",
    "\n",
    "for phu in phu_1:\n",
    "    if phu not in phu_2:\n",
    "        print(phu)\n",
    "\n",
    "for phu in phu_1:\n",
    "    if phu not in phu_3:\n",
    "        print(phu)\n",
    "\n",
    "for phu in phu_1:\n",
    "    if phu not in phu_4:\n",
    "        print(phu)"
   ]
  },
  {
   "cell_type": "code",
   "execution_count": 45,
   "metadata": {},
   "outputs": [
    {
     "data": {
      "text/plain": [
       "2244    2\n",
       "Name: PHU_ID, dtype: int64"
      ]
     },
     "execution_count": 45,
     "metadata": {},
     "output_type": "execute_result"
    }
   ],
   "source": [
    "df_Public_health_unit['PHU_ID'].value_counts()[df_Public_health_unit['PHU_ID'].value_counts() != 1]"
   ]
  },
  {
   "cell_type": "code",
   "execution_count": 46,
   "metadata": {},
   "outputs": [
    {
     "data": {
      "text/html": [
       "<div>\n",
       "<style scoped>\n",
       "    .dataframe tbody tr th:only-of-type {\n",
       "        vertical-align: middle;\n",
       "    }\n",
       "\n",
       "    .dataframe tbody tr th {\n",
       "        vertical-align: top;\n",
       "    }\n",
       "\n",
       "    .dataframe thead th {\n",
       "        text-align: right;\n",
       "    }\n",
       "</style>\n",
       "<table border=\"1\" class=\"dataframe\">\n",
       "  <thead>\n",
       "    <tr style=\"text-align: right;\">\n",
       "      <th></th>\n",
       "      <th>PHU_ID</th>\n",
       "      <th>Reporting_PHU</th>\n",
       "      <th>Reporting_PHU_Address</th>\n",
       "      <th>Reporting_PHU_City</th>\n",
       "      <th>Reporting_PHU_Postal_Code</th>\n",
       "      <th>Reporting_PHU_Website</th>\n",
       "      <th>Reporting_PHU_Latitude</th>\n",
       "      <th>Reporting_PHU_Longitude</th>\n",
       "    </tr>\n",
       "  </thead>\n",
       "  <tbody>\n",
       "    <tr>\n",
       "      <th>0</th>\n",
       "      <td>2244</td>\n",
       "      <td>Middlesex-London Health Unit</td>\n",
       "      <td>50 King Street</td>\n",
       "      <td>London</td>\n",
       "      <td>N6A 5L7</td>\n",
       "      <td>www.healthunit.com</td>\n",
       "      <td>4299571559</td>\n",
       "      <td>-814569832</td>\n",
       "    </tr>\n",
       "    <tr>\n",
       "      <th>34</th>\n",
       "      <td>2244</td>\n",
       "      <td>Middlesex-London Health Unit</td>\n",
       "      <td>50 King Street</td>\n",
       "      <td>London</td>\n",
       "      <td>N6A 5L7</td>\n",
       "      <td>www.healthunit.com</td>\n",
       "      <td>4299571559</td>\n",
       "      <td>-814569832</td>\n",
       "    </tr>\n",
       "  </tbody>\n",
       "</table>\n",
       "</div>"
      ],
      "text/plain": [
       "    PHU_ID                 Reporting_PHU Reporting_PHU_Address  \\\n",
       "0     2244  Middlesex-London Health Unit        50 King Street   \n",
       "34    2244  Middlesex-London Health Unit        50 King Street   \n",
       "\n",
       "   Reporting_PHU_City Reporting_PHU_Postal_Code Reporting_PHU_Website  \\\n",
       "0              London                   N6A 5L7    www.healthunit.com   \n",
       "34             London                   N6A 5L7    www.healthunit.com   \n",
       "\n",
       "    Reporting_PHU_Latitude  Reporting_PHU_Longitude  \n",
       "0               4299571559               -814569832  \n",
       "34              4299571559               -814569832  "
      ]
     },
     "execution_count": 46,
     "metadata": {},
     "output_type": "execute_result"
    }
   ],
   "source": [
    "df_Public_health_unit[df_Public_health_unit['PHU_ID'] == 2244]"
   ]
  },
  {
   "cell_type": "code",
   "execution_count": 59,
   "metadata": {},
   "outputs": [],
   "source": [
    "phu_id_1 = df_ongoing_outbreaks_phu['phu_num'].unique()"
   ]
  },
  {
   "cell_type": "code",
   "execution_count": 60,
   "metadata": {},
   "outputs": [],
   "source": [
    "phu_id_2 = df_Public_health_unit['PHU_ID'].unique()"
   ]
  },
  {
   "cell_type": "code",
   "execution_count": 62,
   "metadata": {},
   "outputs": [],
   "source": [
    "for phu in phu_id_1:\n",
    "    if phu not in phu_id_2:\n",
    "        print(phu)\n",
    "\n",
    "for phu in phu_id_2:\n",
    "    if phu not in phu_id_1:\n",
    "        print(phu)"
   ]
  },
  {
   "cell_type": "code",
   "execution_count": 66,
   "metadata": {},
   "outputs": [
    {
     "data": {
      "text/plain": [
       "array(['OB', 'CC', 'NO KNOWN EPI LINK', 'TRAVEL', 'MISSING INFORMATION',\n",
       "       'UNSPECIFIED EPI LINK'], dtype=object)"
      ]
     },
     "execution_count": 66,
     "metadata": {},
     "output_type": "execute_result"
    }
   ],
   "source": [
    "df_cases_report['CaseAcquisition info'].unique()"
   ]
  },
  {
   "cell_type": "code",
   "execution_count": 67,
   "metadata": {},
   "outputs": [
    {
     "data": {
      "text/plain": [
       "array(['Close Contact', 'Travel-Related', 'Not Reported', 'Outbreak'],\n",
       "      dtype=object)"
      ]
     },
     "execution_count": 67,
     "metadata": {},
     "output_type": "execute_result"
    }
   ],
   "source": [
    "df_Compiled_COVID_19_Case_Details_Canada['exposure'].unique()"
   ]
  },
  {
   "cell_type": "code",
   "execution_count": null,
   "metadata": {},
   "outputs": [],
   "source": [
    "# [SSIS.Pipeline] Error: SSIS Error Code DTS_E_PROCESSINPUTFAILED.  \n",
    "# The ProcessInput method on component \"Insert Into Case (NDS)\" (11) \n",
    "# failed with error code 0xC0209029 while processing input \"OLE DB Destination Input\" (24). \n",
    "# The identified component returned an error from the ProcessInput method. \n",
    "# The error is specific to the component, but the error is fatal and will cause \n",
    "# the Data Flow task to stop running.  There may be error messages posted before this with more information about the failure.\n"
   ]
  },
  {
   "cell_type": "code",
   "execution_count": 68,
   "metadata": {},
   "outputs": [
    {
     "data": {
      "text/plain": [
       "0                     Toronto Public Health\n",
       "1                        Peel Public Health\n",
       "2                     Lambton Public Health\n",
       "3         Region of Waterloo, Public Health\n",
       "4                      Ottawa Public Health\n",
       "                        ...                \n",
       "28495    York Region Public Health Services\n",
       "28496    York Region Public Health Services\n",
       "28497       Durham Region Health Department\n",
       "28498       Durham Region Health Department\n",
       "28499    York Region Public Health Services\n",
       "Name: Reporting PHU, Length: 28500, dtype: object"
      ]
     },
     "execution_count": 68,
     "metadata": {},
     "output_type": "execute_result"
    }
   ],
   "source": [
    "df_cases_report['Reporting PHU' ]"
   ]
  },
  {
   "cell_type": "code",
   "execution_count": 70,
   "metadata": {},
   "outputs": [
    {
     "data": {
      "text/plain": [
       "65"
      ]
     },
     "execution_count": 70,
     "metadata": {},
     "output_type": "execute_result"
    }
   ],
   "source": [
    "len(df_Compiled_COVID_19_Case_Details_Canada['health_region'].unique())"
   ]
  }
 ],
 "metadata": {
  "kernelspec": {
   "display_name": "Python 3",
   "language": "python",
   "name": "python3"
  },
  "language_info": {
   "codemirror_mode": {
    "name": "ipython",
    "version": 3
   },
   "file_extension": ".py",
   "mimetype": "text/x-python",
   "name": "python",
   "nbconvert_exporter": "python",
   "pygments_lexer": "ipython3",
   "version": "3.10.9 (tags/v3.10.9:1dd9be6, Dec  6 2022, 20:01:21) [MSC v.1934 64 bit (AMD64)]"
  },
  "orig_nbformat": 4,
  "vscode": {
   "interpreter": {
    "hash": "9f396aa588b802aa7dd71a029ced5f525d5b07128feb88bea34a1699f85b6eeb"
   }
  }
 },
 "nbformat": 4,
 "nbformat_minor": 2
}
