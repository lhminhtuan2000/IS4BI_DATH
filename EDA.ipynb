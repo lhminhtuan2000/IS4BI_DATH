{
 "cells": [
  {
   "cell_type": "code",
   "execution_count": 5,
   "metadata": {},
   "outputs": [],
   "source": [
    "import numpy as np\n",
    "import pandas as pd"
   ]
  },
  {
   "attachments": {},
   "cell_type": "markdown",
   "metadata": {},
   "source": [
    "# EDA"
   ]
  },
  {
   "cell_type": "code",
   "execution_count": 6,
   "metadata": {},
   "outputs": [],
   "source": [
    "# Thông tin dataframe\n",
    "def printInfo(df):\n",
    "    print(\"Not duplicated:\", df.duplicated().value_counts()[0] == len(df))\n",
    "    print(\"Shape =\", df.shape)\n",
    "    print(\"Missing value\")\n",
    "    print(df.isnull().sum())\n",
    "# Thông tin thuộc tính của dataframe\n",
    "def printValue(col, df, count):\n",
    "    print(\"Number of \"+ col + \"s:\",len(df[col].unique()))\n",
    "    if count == True:\n",
    "        print(\"Value counts\",pd.DataFrame(df[col].value_counts().sort_index()))\n",
    "    else:\n",
    "        print(sorted(df[col].unique()))\n",
    "    print(\"__________________________________________________________________________________________________________\")"
   ]
  },
  {
   "attachments": {},
   "cell_type": "markdown",
   "metadata": {},
   "source": [
    "# Cases Report"
   ]
  },
  {
   "cell_type": "code",
   "execution_count": 7,
   "metadata": {},
   "outputs": [
    {
     "ename": "FileNotFoundError",
     "evalue": "[Errno 2] No such file or directory: './Cases%20Report.csv'",
     "output_type": "error",
     "traceback": [
      "\u001b[1;31m---------------------------------------------------------------------------\u001b[0m",
      "\u001b[1;31mFileNotFoundError\u001b[0m                         Traceback (most recent call last)",
      "Cell \u001b[1;32mIn[7], line 1\u001b[0m\n\u001b[1;32m----> 1\u001b[0m df_cases_report \u001b[39m=\u001b[39m pd\u001b[39m.\u001b[39;49mread_csv(\u001b[39m\"\u001b[39;49m\u001b[39m./Cases\u001b[39;49m\u001b[39m%\u001b[39;49m\u001b[39m20Report.csv\u001b[39;49m\u001b[39m\"\u001b[39;49m)\n\u001b[0;32m      2\u001b[0m df_cases_report\u001b[39m.\u001b[39mhead()\n",
      "File \u001b[1;32mc:\\Users\\pmtri\\AppData\\Local\\Programs\\Python\\Python310\\lib\\site-packages\\pandas\\util\\_decorators.py:211\u001b[0m, in \u001b[0;36mdeprecate_kwarg.<locals>._deprecate_kwarg.<locals>.wrapper\u001b[1;34m(*args, **kwargs)\u001b[0m\n\u001b[0;32m    209\u001b[0m     \u001b[39melse\u001b[39;00m:\n\u001b[0;32m    210\u001b[0m         kwargs[new_arg_name] \u001b[39m=\u001b[39m new_arg_value\n\u001b[1;32m--> 211\u001b[0m \u001b[39mreturn\u001b[39;00m func(\u001b[39m*\u001b[39margs, \u001b[39m*\u001b[39m\u001b[39m*\u001b[39mkwargs)\n",
      "File \u001b[1;32mc:\\Users\\pmtri\\AppData\\Local\\Programs\\Python\\Python310\\lib\\site-packages\\pandas\\util\\_decorators.py:331\u001b[0m, in \u001b[0;36mdeprecate_nonkeyword_arguments.<locals>.decorate.<locals>.wrapper\u001b[1;34m(*args, **kwargs)\u001b[0m\n\u001b[0;32m    325\u001b[0m \u001b[39mif\u001b[39;00m \u001b[39mlen\u001b[39m(args) \u001b[39m>\u001b[39m num_allow_args:\n\u001b[0;32m    326\u001b[0m     warnings\u001b[39m.\u001b[39mwarn(\n\u001b[0;32m    327\u001b[0m         msg\u001b[39m.\u001b[39mformat(arguments\u001b[39m=\u001b[39m_format_argument_list(allow_args)),\n\u001b[0;32m    328\u001b[0m         \u001b[39mFutureWarning\u001b[39;00m,\n\u001b[0;32m    329\u001b[0m         stacklevel\u001b[39m=\u001b[39mfind_stack_level(),\n\u001b[0;32m    330\u001b[0m     )\n\u001b[1;32m--> 331\u001b[0m \u001b[39mreturn\u001b[39;00m func(\u001b[39m*\u001b[39margs, \u001b[39m*\u001b[39m\u001b[39m*\u001b[39mkwargs)\n",
      "File \u001b[1;32mc:\\Users\\pmtri\\AppData\\Local\\Programs\\Python\\Python310\\lib\\site-packages\\pandas\\io\\parsers\\readers.py:950\u001b[0m, in \u001b[0;36mread_csv\u001b[1;34m(filepath_or_buffer, sep, delimiter, header, names, index_col, usecols, squeeze, prefix, mangle_dupe_cols, dtype, engine, converters, true_values, false_values, skipinitialspace, skiprows, skipfooter, nrows, na_values, keep_default_na, na_filter, verbose, skip_blank_lines, parse_dates, infer_datetime_format, keep_date_col, date_parser, dayfirst, cache_dates, iterator, chunksize, compression, thousands, decimal, lineterminator, quotechar, quoting, doublequote, escapechar, comment, encoding, encoding_errors, dialect, error_bad_lines, warn_bad_lines, on_bad_lines, delim_whitespace, low_memory, memory_map, float_precision, storage_options)\u001b[0m\n\u001b[0;32m    935\u001b[0m kwds_defaults \u001b[39m=\u001b[39m _refine_defaults_read(\n\u001b[0;32m    936\u001b[0m     dialect,\n\u001b[0;32m    937\u001b[0m     delimiter,\n\u001b[1;32m   (...)\u001b[0m\n\u001b[0;32m    946\u001b[0m     defaults\u001b[39m=\u001b[39m{\u001b[39m\"\u001b[39m\u001b[39mdelimiter\u001b[39m\u001b[39m\"\u001b[39m: \u001b[39m\"\u001b[39m\u001b[39m,\u001b[39m\u001b[39m\"\u001b[39m},\n\u001b[0;32m    947\u001b[0m )\n\u001b[0;32m    948\u001b[0m kwds\u001b[39m.\u001b[39mupdate(kwds_defaults)\n\u001b[1;32m--> 950\u001b[0m \u001b[39mreturn\u001b[39;00m _read(filepath_or_buffer, kwds)\n",
      "File \u001b[1;32mc:\\Users\\pmtri\\AppData\\Local\\Programs\\Python\\Python310\\lib\\site-packages\\pandas\\io\\parsers\\readers.py:605\u001b[0m, in \u001b[0;36m_read\u001b[1;34m(filepath_or_buffer, kwds)\u001b[0m\n\u001b[0;32m    602\u001b[0m _validate_names(kwds\u001b[39m.\u001b[39mget(\u001b[39m\"\u001b[39m\u001b[39mnames\u001b[39m\u001b[39m\"\u001b[39m, \u001b[39mNone\u001b[39;00m))\n\u001b[0;32m    604\u001b[0m \u001b[39m# Create the parser.\u001b[39;00m\n\u001b[1;32m--> 605\u001b[0m parser \u001b[39m=\u001b[39m TextFileReader(filepath_or_buffer, \u001b[39m*\u001b[39m\u001b[39m*\u001b[39mkwds)\n\u001b[0;32m    607\u001b[0m \u001b[39mif\u001b[39;00m chunksize \u001b[39mor\u001b[39;00m iterator:\n\u001b[0;32m    608\u001b[0m     \u001b[39mreturn\u001b[39;00m parser\n",
      "File \u001b[1;32mc:\\Users\\pmtri\\AppData\\Local\\Programs\\Python\\Python310\\lib\\site-packages\\pandas\\io\\parsers\\readers.py:1442\u001b[0m, in \u001b[0;36mTextFileReader.__init__\u001b[1;34m(self, f, engine, **kwds)\u001b[0m\n\u001b[0;32m   1439\u001b[0m     \u001b[39mself\u001b[39m\u001b[39m.\u001b[39moptions[\u001b[39m\"\u001b[39m\u001b[39mhas_index_names\u001b[39m\u001b[39m\"\u001b[39m] \u001b[39m=\u001b[39m kwds[\u001b[39m\"\u001b[39m\u001b[39mhas_index_names\u001b[39m\u001b[39m\"\u001b[39m]\n\u001b[0;32m   1441\u001b[0m \u001b[39mself\u001b[39m\u001b[39m.\u001b[39mhandles: IOHandles \u001b[39m|\u001b[39m \u001b[39mNone\u001b[39;00m \u001b[39m=\u001b[39m \u001b[39mNone\u001b[39;00m\n\u001b[1;32m-> 1442\u001b[0m \u001b[39mself\u001b[39m\u001b[39m.\u001b[39m_engine \u001b[39m=\u001b[39m \u001b[39mself\u001b[39;49m\u001b[39m.\u001b[39;49m_make_engine(f, \u001b[39mself\u001b[39;49m\u001b[39m.\u001b[39;49mengine)\n",
      "File \u001b[1;32mc:\\Users\\pmtri\\AppData\\Local\\Programs\\Python\\Python310\\lib\\site-packages\\pandas\\io\\parsers\\readers.py:1735\u001b[0m, in \u001b[0;36mTextFileReader._make_engine\u001b[1;34m(self, f, engine)\u001b[0m\n\u001b[0;32m   1733\u001b[0m     \u001b[39mif\u001b[39;00m \u001b[39m\"\u001b[39m\u001b[39mb\u001b[39m\u001b[39m\"\u001b[39m \u001b[39mnot\u001b[39;00m \u001b[39min\u001b[39;00m mode:\n\u001b[0;32m   1734\u001b[0m         mode \u001b[39m+\u001b[39m\u001b[39m=\u001b[39m \u001b[39m\"\u001b[39m\u001b[39mb\u001b[39m\u001b[39m\"\u001b[39m\n\u001b[1;32m-> 1735\u001b[0m \u001b[39mself\u001b[39m\u001b[39m.\u001b[39mhandles \u001b[39m=\u001b[39m get_handle(\n\u001b[0;32m   1736\u001b[0m     f,\n\u001b[0;32m   1737\u001b[0m     mode,\n\u001b[0;32m   1738\u001b[0m     encoding\u001b[39m=\u001b[39;49m\u001b[39mself\u001b[39;49m\u001b[39m.\u001b[39;49moptions\u001b[39m.\u001b[39;49mget(\u001b[39m\"\u001b[39;49m\u001b[39mencoding\u001b[39;49m\u001b[39m\"\u001b[39;49m, \u001b[39mNone\u001b[39;49;00m),\n\u001b[0;32m   1739\u001b[0m     compression\u001b[39m=\u001b[39;49m\u001b[39mself\u001b[39;49m\u001b[39m.\u001b[39;49moptions\u001b[39m.\u001b[39;49mget(\u001b[39m\"\u001b[39;49m\u001b[39mcompression\u001b[39;49m\u001b[39m\"\u001b[39;49m, \u001b[39mNone\u001b[39;49;00m),\n\u001b[0;32m   1740\u001b[0m     memory_map\u001b[39m=\u001b[39;49m\u001b[39mself\u001b[39;49m\u001b[39m.\u001b[39;49moptions\u001b[39m.\u001b[39;49mget(\u001b[39m\"\u001b[39;49m\u001b[39mmemory_map\u001b[39;49m\u001b[39m\"\u001b[39;49m, \u001b[39mFalse\u001b[39;49;00m),\n\u001b[0;32m   1741\u001b[0m     is_text\u001b[39m=\u001b[39;49mis_text,\n\u001b[0;32m   1742\u001b[0m     errors\u001b[39m=\u001b[39;49m\u001b[39mself\u001b[39;49m\u001b[39m.\u001b[39;49moptions\u001b[39m.\u001b[39;49mget(\u001b[39m\"\u001b[39;49m\u001b[39mencoding_errors\u001b[39;49m\u001b[39m\"\u001b[39;49m, \u001b[39m\"\u001b[39;49m\u001b[39mstrict\u001b[39;49m\u001b[39m\"\u001b[39;49m),\n\u001b[0;32m   1743\u001b[0m     storage_options\u001b[39m=\u001b[39;49m\u001b[39mself\u001b[39;49m\u001b[39m.\u001b[39;49moptions\u001b[39m.\u001b[39;49mget(\u001b[39m\"\u001b[39;49m\u001b[39mstorage_options\u001b[39;49m\u001b[39m\"\u001b[39;49m, \u001b[39mNone\u001b[39;49;00m),\n\u001b[0;32m   1744\u001b[0m )\n\u001b[0;32m   1745\u001b[0m \u001b[39massert\u001b[39;00m \u001b[39mself\u001b[39m\u001b[39m.\u001b[39mhandles \u001b[39mis\u001b[39;00m \u001b[39mnot\u001b[39;00m \u001b[39mNone\u001b[39;00m\n\u001b[0;32m   1746\u001b[0m f \u001b[39m=\u001b[39m \u001b[39mself\u001b[39m\u001b[39m.\u001b[39mhandles\u001b[39m.\u001b[39mhandle\n",
      "File \u001b[1;32mc:\\Users\\pmtri\\AppData\\Local\\Programs\\Python\\Python310\\lib\\site-packages\\pandas\\io\\common.py:856\u001b[0m, in \u001b[0;36mget_handle\u001b[1;34m(path_or_buf, mode, encoding, compression, memory_map, is_text, errors, storage_options)\u001b[0m\n\u001b[0;32m    851\u001b[0m \u001b[39melif\u001b[39;00m \u001b[39misinstance\u001b[39m(handle, \u001b[39mstr\u001b[39m):\n\u001b[0;32m    852\u001b[0m     \u001b[39m# Check whether the filename is to be opened in binary mode.\u001b[39;00m\n\u001b[0;32m    853\u001b[0m     \u001b[39m# Binary mode does not support 'encoding' and 'newline'.\u001b[39;00m\n\u001b[0;32m    854\u001b[0m     \u001b[39mif\u001b[39;00m ioargs\u001b[39m.\u001b[39mencoding \u001b[39mand\u001b[39;00m \u001b[39m\"\u001b[39m\u001b[39mb\u001b[39m\u001b[39m\"\u001b[39m \u001b[39mnot\u001b[39;00m \u001b[39min\u001b[39;00m ioargs\u001b[39m.\u001b[39mmode:\n\u001b[0;32m    855\u001b[0m         \u001b[39m# Encoding\u001b[39;00m\n\u001b[1;32m--> 856\u001b[0m         handle \u001b[39m=\u001b[39m \u001b[39mopen\u001b[39;49m(\n\u001b[0;32m    857\u001b[0m             handle,\n\u001b[0;32m    858\u001b[0m             ioargs\u001b[39m.\u001b[39;49mmode,\n\u001b[0;32m    859\u001b[0m             encoding\u001b[39m=\u001b[39;49mioargs\u001b[39m.\u001b[39;49mencoding,\n\u001b[0;32m    860\u001b[0m             errors\u001b[39m=\u001b[39;49merrors,\n\u001b[0;32m    861\u001b[0m             newline\u001b[39m=\u001b[39;49m\u001b[39m\"\u001b[39;49m\u001b[39m\"\u001b[39;49m,\n\u001b[0;32m    862\u001b[0m         )\n\u001b[0;32m    863\u001b[0m     \u001b[39melse\u001b[39;00m:\n\u001b[0;32m    864\u001b[0m         \u001b[39m# Binary mode\u001b[39;00m\n\u001b[0;32m    865\u001b[0m         handle \u001b[39m=\u001b[39m \u001b[39mopen\u001b[39m(handle, ioargs\u001b[39m.\u001b[39mmode)\n",
      "\u001b[1;31mFileNotFoundError\u001b[0m: [Errno 2] No such file or directory: './Cases%20Report.csv'"
     ]
    }
   ],
   "source": [
    "df_cases_report = pd.read_csv(\".\\Cases%20Report.csv\")\n",
    "df_cases_report.head()"
   ]
  },
  {
   "cell_type": "code",
   "execution_count": null,
   "metadata": {},
   "outputs": [
    {
     "name": "stdout",
     "output_type": "stream",
     "text": [
      "Not duplicated: False\n",
      "Shape = (28500, 16)\n",
      "Missing value\n",
      "Outcome                     0\n",
      "Age                         0\n",
      "Gender                      0\n",
      "Reporting PHU               0\n",
      "SpecimenDate              208\n",
      "CaseReported Date           0\n",
      "PHUCity                     0\n",
      "TestReported Date         418\n",
      "CaseAcquisition info        0\n",
      "AccurateEpisode Dt          0\n",
      "PHU Address                 0\n",
      "PHU Website                 0\n",
      "OutbreakRelated         19790\n",
      "PHU Latitude                0\n",
      "PHU Longitude               0\n",
      "PHU Postal Code             0\n",
      "dtype: int64\n"
     ]
    }
   ],
   "source": [
    "printInfo(df_cases_report)"
   ]
  },
  {
   "cell_type": "code",
   "execution_count": null,
   "metadata": {},
   "outputs": [
    {
     "name": "stdout",
     "output_type": "stream",
     "text": [
      "Number of Outcomes: 3\n",
      "Value counts               Outcome\n",
      "Fatal            1307\n",
      "Not Resolved        1\n",
      "Resolved        27192\n",
      "__________________________________________________________________________________________________________\n",
      "Number of Ages: 9\n",
      "['20s', '30s', '40s', '50s', '60s', '70s', '80s', '90+', '<20']\n",
      "__________________________________________________________________________________________________________\n",
      "Number of Genders: 4\n",
      "Value counts                 Gender\n",
      "FEMALE           14470\n",
      "GENDER DIVERSE       3\n",
      "MALE             14006\n",
      "UNSPECIFIED         21\n",
      "__________________________________________________________________________________________________________\n",
      "Number of Reporting PHUs: 34\n",
      "['Algoma Public Health Unit', 'Brant County Health Unit', 'Chatham-Kent Health Unit', 'Durham Region Health Department', 'Eastern Ontario Health Unit', 'Grey Bruce Health Unit', 'Haldimand-Norfolk Health Unit', 'Haliburton, Kawartha, Pine Ridge District Health Unit', 'Halton Region Health Department', 'Hamilton Public Health Services', 'Hastings and Prince Edward Counties Health Unit', 'Huron Perth District Health Unit', 'Kingston, Frontenac and Lennox & Addington Public Health', 'Lambton Public Health', 'Leeds, Grenville and Lanark District Health Unit', 'Middlesex-London Health Unit', 'Niagara Region Public Health Department', 'North Bay Parry Sound District Health Unit', 'Northwestern Health Unit', 'Ottawa Public Health', 'Peel Public Health', 'Peterborough Public Health', 'Porcupine Health Unit', 'Region of Waterloo, Public Health', 'Renfrew County and District Health Unit', 'Simcoe Muskoka District Health Unit', 'Southwestern Public Health', 'Sudbury & District Health Unit', 'Thunder Bay District Health Unit', 'Timiskaming Health Unit', 'Toronto Public Health', 'Wellington-Dufferin-Guelph Public Health', 'Windsor-Essex County Health Unit', 'York Region Public Health Services']\n",
      "__________________________________________________________________________________________________________\n",
      "Number of PHUCitys: 34\n",
      "['Barrie', 'Belleville', 'Brantford', 'Brockville', 'Chatham', 'Cornwall', 'Guelph', 'Hamilton', 'Kenora', 'Kingston', 'London', 'Mississauga', 'New Liskeard', 'Newmarket', 'North Bay', 'Oakville', 'Ottawa', 'Owen Sound', 'Pembroke', 'Peterborough', 'Point Edward', 'Port Hope', 'Sault Ste. Marie', 'Simcoe', 'St. Thomas', 'Stratford', 'Sudbury', 'Thorold', 'Thunder Bay', 'Timmins', 'Toronto', 'Waterloo', 'Whitby', 'Windsor']\n",
      "__________________________________________________________________________________________________________\n",
      "Number of CaseAcquisition infos: 6\n",
      "['CC', 'MISSING INFORMATION', 'NO KNOWN EPI LINK', 'OB', 'TRAVEL', 'UNSPECIFIED EPI LINK']\n",
      "__________________________________________________________________________________________________________\n"
     ]
    }
   ],
   "source": [
    "printValue(\"Outcome\",df_cases_report,True)\n",
    "printValue(\"Age\",df_cases_report,0)\n",
    "printValue(\"Gender\",df_cases_report,True)\n",
    "printValue(\"Reporting PHU\",df_cases_report,0)\n",
    "printValue(\"PHUCity\",df_cases_report,0)\n",
    "printValue(\"CaseAcquisition info\",df_cases_report,0)"
   ]
  },
  {
   "cell_type": "code",
   "execution_count": null,
   "metadata": {},
   "outputs": [
    {
     "data": {
      "text/plain": [
       "False    26972\n",
       "True      1528\n",
       "dtype: int64"
      ]
     },
     "execution_count": 6,
     "metadata": {},
     "output_type": "execute_result"
    }
   ],
   "source": [
    "df_cases_report.duplicated().value_counts()\n",
    "# df_cases_report[df_cases_report.duplicated() == True]"
   ]
  },
  {
   "cell_type": "code",
   "execution_count": null,
   "metadata": {},
   "outputs": [
    {
     "data": {
      "text/html": [
       "<div>\n",
       "<style scoped>\n",
       "    .dataframe tbody tr th:only-of-type {\n",
       "        vertical-align: middle;\n",
       "    }\n",
       "\n",
       "    .dataframe tbody tr th {\n",
       "        vertical-align: top;\n",
       "    }\n",
       "\n",
       "    .dataframe thead th {\n",
       "        text-align: right;\n",
       "    }\n",
       "</style>\n",
       "<table border=\"1\" class=\"dataframe\">\n",
       "  <thead>\n",
       "    <tr style=\"text-align: right;\">\n",
       "      <th></th>\n",
       "      <th>Outcome</th>\n",
       "      <th>Age</th>\n",
       "      <th>Gender</th>\n",
       "      <th>Reporting PHU</th>\n",
       "      <th>SpecimenDate</th>\n",
       "      <th>CaseReported Date</th>\n",
       "      <th>PHUCity</th>\n",
       "      <th>TestReported Date</th>\n",
       "      <th>CaseAcquisition info</th>\n",
       "      <th>AccurateEpisode Dt</th>\n",
       "      <th>PHU Address</th>\n",
       "      <th>PHU Website</th>\n",
       "      <th>OutbreakRelated</th>\n",
       "      <th>PHU Latitude</th>\n",
       "      <th>PHU Longitude</th>\n",
       "      <th>PHU Postal Code</th>\n",
       "    </tr>\n",
       "  </thead>\n",
       "  <tbody>\n",
       "    <tr>\n",
       "      <th>195</th>\n",
       "      <td>Resolved</td>\n",
       "      <td>&lt;20</td>\n",
       "      <td>FEMALE</td>\n",
       "      <td>Hamilton Public Health Services</td>\n",
       "      <td>10/6/2020</td>\n",
       "      <td>10/8/2020</td>\n",
       "      <td>Hamilton</td>\n",
       "      <td>10/8/2020</td>\n",
       "      <td>OB</td>\n",
       "      <td>10/4/2020</td>\n",
       "      <td>110 King St. West, 2nd Floor</td>\n",
       "      <td>www.hamilton.ca/publichealth</td>\n",
       "      <td>Yes</td>\n",
       "      <td>43.257631</td>\n",
       "      <td>-79.871341</td>\n",
       "      <td>L8P 4S6</td>\n",
       "    </tr>\n",
       "    <tr>\n",
       "      <th>197</th>\n",
       "      <td>Resolved</td>\n",
       "      <td>&lt;20</td>\n",
       "      <td>FEMALE</td>\n",
       "      <td>Hamilton Public Health Services</td>\n",
       "      <td>10/6/2020</td>\n",
       "      <td>10/8/2020</td>\n",
       "      <td>Hamilton</td>\n",
       "      <td>10/8/2020</td>\n",
       "      <td>OB</td>\n",
       "      <td>10/4/2020</td>\n",
       "      <td>110 King St. West, 2nd Floor</td>\n",
       "      <td>www.hamilton.ca/publichealth</td>\n",
       "      <td>Yes</td>\n",
       "      <td>43.257631</td>\n",
       "      <td>-79.871341</td>\n",
       "      <td>L8P 4S6</td>\n",
       "    </tr>\n",
       "  </tbody>\n",
       "</table>\n",
       "</div>"
      ],
      "text/plain": [
       "      Outcome  Age  Gender                    Reporting PHU SpecimenDate  \\\n",
       "195  Resolved  <20  FEMALE  Hamilton Public Health Services    10/6/2020   \n",
       "197  Resolved  <20  FEMALE  Hamilton Public Health Services    10/6/2020   \n",
       "\n",
       "    CaseReported Date   PHUCity TestReported Date CaseAcquisition info  \\\n",
       "195         10/8/2020  Hamilton         10/8/2020                   OB   \n",
       "197         10/8/2020  Hamilton         10/8/2020                   OB   \n",
       "\n",
       "    AccurateEpisode Dt                   PHU Address  \\\n",
       "195          10/4/2020  110 King St. West, 2nd Floor   \n",
       "197          10/4/2020  110 King St. West, 2nd Floor   \n",
       "\n",
       "                      PHU Website OutbreakRelated  PHU Latitude  \\\n",
       "195  www.hamilton.ca/publichealth             Yes     43.257631   \n",
       "197  www.hamilton.ca/publichealth             Yes     43.257631   \n",
       "\n",
       "     PHU Longitude PHU Postal Code  \n",
       "195     -79.871341         L8P 4S6  \n",
       "197     -79.871341         L8P 4S6  "
      ]
     },
     "execution_count": 7,
     "metadata": {},
     "output_type": "execute_result"
    }
   ],
   "source": [
    "df_cases_report[(df_cases_report['Reporting PHU'] == 'Hamilton Public Health Services') \n",
    "                & (df_cases_report['SpecimenDate'] == '10/6/2020')\n",
    "                & (df_cases_report['Age'] == '<20')\n",
    "                & (df_cases_report['CaseAcquisition info'] == 'OB')]"
   ]
  },
  {
   "attachments": {},
   "cell_type": "markdown",
   "metadata": {},
   "source": [
    "# Compiled_COVID-19_Case_Details"
   ]
  },
  {
   "cell_type": "code",
   "execution_count": null,
   "metadata": {},
   "outputs": [
    {
     "data": {
      "text/html": [
       "<div>\n",
       "<style scoped>\n",
       "    .dataframe tbody tr th:only-of-type {\n",
       "        vertical-align: middle;\n",
       "    }\n",
       "\n",
       "    .dataframe tbody tr th {\n",
       "        vertical-align: top;\n",
       "    }\n",
       "\n",
       "    .dataframe thead th {\n",
       "        text-align: right;\n",
       "    }\n",
       "</style>\n",
       "<table border=\"1\" class=\"dataframe\">\n",
       "  <thead>\n",
       "    <tr style=\"text-align: right;\">\n",
       "      <th></th>\n",
       "      <th>ObjectId</th>\n",
       "      <th>row_id</th>\n",
       "      <th>date_reported</th>\n",
       "      <th>health_region</th>\n",
       "      <th>age_group</th>\n",
       "      <th>gender</th>\n",
       "      <th>exposure</th>\n",
       "      <th>case_status</th>\n",
       "      <th>province</th>\n",
       "    </tr>\n",
       "  </thead>\n",
       "  <tbody>\n",
       "    <tr>\n",
       "      <th>0</th>\n",
       "      <td>1</td>\n",
       "      <td>500</td>\n",
       "      <td>2020/03/23 12:00:00+00</td>\n",
       "      <td>Peel Public Health</td>\n",
       "      <td>20-29</td>\n",
       "      <td>Female</td>\n",
       "      <td>Close Contact</td>\n",
       "      <td>Recovered</td>\n",
       "      <td>Ontario</td>\n",
       "    </tr>\n",
       "    <tr>\n",
       "      <th>1</th>\n",
       "      <td>2</td>\n",
       "      <td>501</td>\n",
       "      <td>2020/04/02 12:00:00+00</td>\n",
       "      <td>Peel Public Health</td>\n",
       "      <td>40-49</td>\n",
       "      <td>Female</td>\n",
       "      <td>Close Contact</td>\n",
       "      <td>Recovered</td>\n",
       "      <td>Ontario</td>\n",
       "    </tr>\n",
       "    <tr>\n",
       "      <th>2</th>\n",
       "      <td>3</td>\n",
       "      <td>502</td>\n",
       "      <td>2020/03/25 12:00:00+00</td>\n",
       "      <td>Kingston, Frontenac and Lennox &amp; Addington Pub...</td>\n",
       "      <td>30-39</td>\n",
       "      <td>Male</td>\n",
       "      <td>Close Contact</td>\n",
       "      <td>Recovered</td>\n",
       "      <td>Ontario</td>\n",
       "    </tr>\n",
       "    <tr>\n",
       "      <th>3</th>\n",
       "      <td>4</td>\n",
       "      <td>503</td>\n",
       "      <td>2020/03/28 12:00:00+00</td>\n",
       "      <td>Kingston, Frontenac and Lennox &amp; Addington Pub...</td>\n",
       "      <td>&lt;20</td>\n",
       "      <td>Female</td>\n",
       "      <td>Close Contact</td>\n",
       "      <td>Recovered</td>\n",
       "      <td>Ontario</td>\n",
       "    </tr>\n",
       "    <tr>\n",
       "      <th>4</th>\n",
       "      <td>5</td>\n",
       "      <td>504</td>\n",
       "      <td>2020/03/30 12:00:00+00</td>\n",
       "      <td>Peel Public Health</td>\n",
       "      <td>50-59</td>\n",
       "      <td>Male</td>\n",
       "      <td>Close Contact</td>\n",
       "      <td>Recovered</td>\n",
       "      <td>Ontario</td>\n",
       "    </tr>\n",
       "  </tbody>\n",
       "</table>\n",
       "</div>"
      ],
      "text/plain": [
       "   ObjectId  row_id           date_reported  \\\n",
       "0         1     500  2020/03/23 12:00:00+00   \n",
       "1         2     501  2020/04/02 12:00:00+00   \n",
       "2         3     502  2020/03/25 12:00:00+00   \n",
       "3         4     503  2020/03/28 12:00:00+00   \n",
       "4         5     504  2020/03/30 12:00:00+00   \n",
       "\n",
       "                                       health_region age_group  gender  \\\n",
       "0                                 Peel Public Health     20-29  Female   \n",
       "1                                 Peel Public Health     40-49  Female   \n",
       "2  Kingston, Frontenac and Lennox & Addington Pub...     30-39    Male   \n",
       "3  Kingston, Frontenac and Lennox & Addington Pub...       <20  Female   \n",
       "4                                 Peel Public Health     50-59    Male   \n",
       "\n",
       "        exposure case_status province  \n",
       "0  Close Contact   Recovered  Ontario  \n",
       "1  Close Contact   Recovered  Ontario  \n",
       "2  Close Contact   Recovered  Ontario  \n",
       "3  Close Contact   Recovered  Ontario  \n",
       "4  Close Contact   Recovered  Ontario  "
      ]
     },
     "execution_count": 8,
     "metadata": {},
     "output_type": "execute_result"
    }
   ],
   "source": [
    "df_Compiled_COVID_19_Case_Details_Canada = pd.read_csv(\".\\Compiled_COVID-19_Case_Details_Canada.csv\")\n",
    "df_Compiled_COVID_19_Case_Details_Canada.head()"
   ]
  },
  {
   "cell_type": "code",
   "execution_count": null,
   "metadata": {},
   "outputs": [
    {
     "name": "stdout",
     "output_type": "stream",
     "text": [
      "Number of cases Ontario: 533761\n",
      "Duplicated\n",
      " False    533761\n",
      "dtype: int64\n"
     ]
    }
   ],
   "source": [
    "print(\"Number of cases Ontario:\", len(df_Compiled_COVID_19_Case_Details_Canada[df_Compiled_COVID_19_Case_Details_Canada['province'] == \"Ontario\"]))\n",
    "print(\"Duplicated\\n\", df_Compiled_COVID_19_Case_Details_Canada[df_Compiled_COVID_19_Case_Details_Canada['province'] == \"Ontario\"].duplicated().value_counts())"
   ]
  },
  {
   "cell_type": "code",
   "execution_count": null,
   "metadata": {},
   "outputs": [
    {
     "name": "stdout",
     "output_type": "stream",
     "text": [
      "Not duplicated: True\n",
      "Shape = (1048575, 9)\n",
      "Missing value\n",
      "ObjectId         0\n",
      "row_id           0\n",
      "date_reported    0\n",
      "health_region    0\n",
      "age_group        0\n",
      "gender           0\n",
      "exposure         0\n",
      "case_status      0\n",
      "province         0\n",
      "dtype: int64\n"
     ]
    }
   ],
   "source": [
    "printInfo(df_Compiled_COVID_19_Case_Details_Canada)"
   ]
  },
  {
   "cell_type": "code",
   "execution_count": null,
   "metadata": {},
   "outputs": [
    {
     "name": "stdout",
     "output_type": "stream",
     "text": [
      "Number of health_regions: 65\n",
      "['Abitibi-Témiscamingue', 'Algoma Public Health Unit', 'Bas-Saint-Laurent', 'Brant County Health Unit', 'Calgary Zone', 'Capitale-Nationale', 'Central Zone', 'Chatham-Kent Health Unit', 'Chaudière-Appalaches', 'Côte-Nord', 'Durham Region Health Department', 'Eastern Ontario Health Unit', 'Edmonton Zone', 'Estrie', 'Fraser', 'Gaspésie-Îles-de-la-Madeleine', 'Grey Bruce Health Unit', 'Haldimand-Norfolk Health Unit', 'Haliburton, Kawartha, Pine Ridge District Health Unit', 'Halton Region Health Department', 'Hamilton Public Health Services', 'Hastings and Prince Edward Counties Health Unit', 'Huron Perth District Health Unit', 'Interior', 'Kingston, Frontenac and Lennox & Addington Public Health', 'Lambton Public Health', 'Lanaudière', 'Laurentides', 'Laval', 'Leeds, Grenville and Lanark District Health Unit', 'Mauricie', 'Middlesex-London Health Unit', 'Montréal', 'Montérégie', 'Niagara Region Public Health Department', 'Nord-du-Québec', 'North Bay Parry Sound District Health Unit', 'North Zone', 'Northern', 'Northwestern Health Unit', 'Not Reported', 'Nunavik', 'Ottawa Public Health', 'Out of Canada', 'Outaouais', 'Peel Public Health', 'Peterborough Public Health', 'Porcupine Health Unit', 'Region of Waterloo, Public Health', 'Renfrew County and District Health Unit', 'Saguenay', 'Simcoe Muskoka District Health Unit', 'South Zone', 'Southwestern Public Health', 'Sudbury & District Health Unit', 'Terres-Cries-de-la-Baie-James', 'Thunder Bay District Health Unit', 'Timiskaming Health Unit', 'Toronto Public Health', 'Unknown', 'Vancouver Coastal', 'Vancouver Island', 'Wellington-Dufferin-Guelph Public Health', 'Windsor-Essex County Health Unit', 'York Region Public Health Services']\n",
      "__________________________________________________________________________________________________________\n",
      "Number of age_groups: 9\n",
      "['20-29', '30-39', '40-49', '50-59', '60-69', '70-79', '80+', '<20', 'Not Reported']\n",
      "__________________________________________________________________________________________________________\n",
      "Number of genders: 3\n",
      "['Female', 'Male', 'Not Reported']\n",
      "__________________________________________________________________________________________________________\n",
      "Number of exposures: 4\n",
      "['Close Contact', 'Not Reported', 'Outbreak', 'Travel-Related']\n",
      "__________________________________________________________________________________________________________\n",
      "Number of case_statuss: 4\n",
      "Value counts               case_status\n",
      "Active              16266\n",
      "Deceased            11032\n",
      "Not Reported       286686\n",
      "Recovered          734591\n",
      "__________________________________________________________________________________________________________\n",
      "Number of provinces: 4\n",
      "['Alberta', 'British Columbia', 'Ontario', 'Quebec']\n",
      "__________________________________________________________________________________________________________\n"
     ]
    }
   ],
   "source": [
    "printValue(\"health_region\", df_Compiled_COVID_19_Case_Details_Canada, 0)\n",
    "printValue(\"age_group\", df_Compiled_COVID_19_Case_Details_Canada, 0)\n",
    "printValue(\"gender\", df_Compiled_COVID_19_Case_Details_Canada, 0)\n",
    "printValue(\"exposure\", df_Compiled_COVID_19_Case_Details_Canada, 0)\n",
    "printValue(\"case_status\", df_Compiled_COVID_19_Case_Details_Canada, True)\n",
    "printValue(\"province\", df_Compiled_COVID_19_Case_Details_Canada, 0)"
   ]
  },
  {
   "attachments": {},
   "cell_type": "markdown",
   "metadata": {},
   "source": [
    "# ongoing_outbreadks_phu"
   ]
  },
  {
   "cell_type": "code",
   "execution_count": null,
   "metadata": {},
   "outputs": [
    {
     "data": {
      "text/html": [
       "<div>\n",
       "<style scoped>\n",
       "    .dataframe tbody tr th:only-of-type {\n",
       "        vertical-align: middle;\n",
       "    }\n",
       "\n",
       "    .dataframe tbody tr th {\n",
       "        vertical-align: top;\n",
       "    }\n",
       "\n",
       "    .dataframe thead th {\n",
       "        text-align: right;\n",
       "    }\n",
       "</style>\n",
       "<table border=\"1\" class=\"dataframe\">\n",
       "  <thead>\n",
       "    <tr style=\"text-align: right;\">\n",
       "      <th></th>\n",
       "      <th>date</th>\n",
       "      <th>phu_num</th>\n",
       "      <th>outbreak_group</th>\n",
       "      <th>number_ongoing_outbreaks</th>\n",
       "    </tr>\n",
       "  </thead>\n",
       "  <tbody>\n",
       "    <tr>\n",
       "      <th>0</th>\n",
       "      <td>11/1/2020</td>\n",
       "      <td>2227</td>\n",
       "      <td>1 Congregate Care</td>\n",
       "      <td>2</td>\n",
       "    </tr>\n",
       "    <tr>\n",
       "      <th>1</th>\n",
       "      <td>11/1/2020</td>\n",
       "      <td>2227</td>\n",
       "      <td>4 Workplace</td>\n",
       "      <td>1</td>\n",
       "    </tr>\n",
       "    <tr>\n",
       "      <th>2</th>\n",
       "      <td>11/1/2020</td>\n",
       "      <td>2240</td>\n",
       "      <td>4 Workplace</td>\n",
       "      <td>1</td>\n",
       "    </tr>\n",
       "    <tr>\n",
       "      <th>3</th>\n",
       "      <td>11/1/2020</td>\n",
       "      <td>2240</td>\n",
       "      <td>5 Recreational</td>\n",
       "      <td>1</td>\n",
       "    </tr>\n",
       "    <tr>\n",
       "      <th>4</th>\n",
       "      <td>11/1/2020</td>\n",
       "      <td>2240</td>\n",
       "      <td>6 Other/Unknown</td>\n",
       "      <td>1</td>\n",
       "    </tr>\n",
       "  </tbody>\n",
       "</table>\n",
       "</div>"
      ],
      "text/plain": [
       "        date  phu_num     outbreak_group  number_ongoing_outbreaks\n",
       "0  11/1/2020     2227  1 Congregate Care                         2\n",
       "1  11/1/2020     2227        4 Workplace                         1\n",
       "2  11/1/2020     2240        4 Workplace                         1\n",
       "3  11/1/2020     2240     5 Recreational                         1\n",
       "4  11/1/2020     2240    6 Other/Unknown                         1"
      ]
     },
     "execution_count": 12,
     "metadata": {},
     "output_type": "execute_result"
    }
   ],
   "source": [
    "df_ongoing_outbreaks_phu = pd.read_csv(\".\\ongoing_outbreaks_phu.csv\")\n",
    "df_ongoing_outbreaks_phu.head()"
   ]
  },
  {
   "cell_type": "code",
   "execution_count": null,
   "metadata": {},
   "outputs": [
    {
     "name": "stdout",
     "output_type": "stream",
     "text": [
      "Not duplicated: True\n",
      "Shape = (56987, 4)\n",
      "Missing value\n",
      "date                        0\n",
      "phu_num                     0\n",
      "outbreak_group              0\n",
      "number_ongoing_outbreaks    0\n",
      "dtype: int64\n"
     ]
    }
   ],
   "source": [
    "printInfo(df_ongoing_outbreaks_phu)"
   ]
  },
  {
   "cell_type": "code",
   "execution_count": null,
   "metadata": {},
   "outputs": [
    {
     "name": "stdout",
     "output_type": "stream",
     "text": [
      "Number of phu_nums: 34\n",
      "[2226, 2227, 2230, 2233, 2234, 2235, 2236, 2237, 2238, 2240, 2241, 2242, 2243, 2244, 2246, 2247, 2249, 2251, 2253, 2255, 2256, 2257, 2258, 2260, 2261, 2262, 2263, 2265, 2266, 2268, 2270, 3895, 4913, 5183]\n",
      "__________________________________________________________________________________________________________\n",
      "Number of outbreak_groups: 6\n",
      "Value counts                      outbreak_group\n",
      "1 Congregate Care             15522\n",
      "2 Congregate Living           12578\n",
      "3 Education                    8251\n",
      "4 Workplace                    9555\n",
      "5 Recreational                 6548\n",
      "6 Other/Unknown                4533\n",
      "__________________________________________________________________________________________________________\n"
     ]
    }
   ],
   "source": [
    "printValue(\"phu_num\", df_ongoing_outbreaks_phu, 0)\n",
    "printValue(\"outbreak_group\", df_ongoing_outbreaks_phu, True)"
   ]
  },
  {
   "attachments": {},
   "cell_type": "markdown",
   "metadata": {},
   "source": [
    "# Public health unit"
   ]
  },
  {
   "cell_type": "code",
   "execution_count": null,
   "metadata": {},
   "outputs": [
    {
     "data": {
      "text/html": [
       "<div>\n",
       "<style scoped>\n",
       "    .dataframe tbody tr th:only-of-type {\n",
       "        vertical-align: middle;\n",
       "    }\n",
       "\n",
       "    .dataframe tbody tr th {\n",
       "        vertical-align: top;\n",
       "    }\n",
       "\n",
       "    .dataframe thead th {\n",
       "        text-align: right;\n",
       "    }\n",
       "</style>\n",
       "<table border=\"1\" class=\"dataframe\">\n",
       "  <thead>\n",
       "    <tr style=\"text-align: right;\">\n",
       "      <th></th>\n",
       "      <th>PHU_ID</th>\n",
       "      <th>Reporting_PHU</th>\n",
       "      <th>Reporting_PHU_Address</th>\n",
       "      <th>Reporting_PHU_City</th>\n",
       "      <th>Reporting_PHU_Postal_Code</th>\n",
       "      <th>Reporting_PHU_Website</th>\n",
       "      <th>Reporting_PHU_Latitude</th>\n",
       "      <th>Reporting_PHU_Longitude</th>\n",
       "    </tr>\n",
       "  </thead>\n",
       "  <tbody>\n",
       "    <tr>\n",
       "      <th>0</th>\n",
       "      <td>2244</td>\n",
       "      <td>Middlesex-London Health Unit</td>\n",
       "      <td>50 King Street</td>\n",
       "      <td>London</td>\n",
       "      <td>N6A 5L7</td>\n",
       "      <td>www.healthunit.com</td>\n",
       "      <td>4299571559</td>\n",
       "      <td>-814569832</td>\n",
       "    </tr>\n",
       "    <tr>\n",
       "      <th>1</th>\n",
       "      <td>2236</td>\n",
       "      <td>Halton Region Health Department</td>\n",
       "      <td>1151 Bronte Road</td>\n",
       "      <td>Oakville</td>\n",
       "      <td>L6M 3Ll</td>\n",
       "      <td>www.halton.ca/For-Residents/Public-Health/</td>\n",
       "      <td>4351209709</td>\n",
       "      <td>-7989050809</td>\n",
       "    </tr>\n",
       "    <tr>\n",
       "      <th>2</th>\n",
       "      <td>3895</td>\n",
       "      <td>Toronto Public Health</td>\n",
       "      <td>277 Victoria Street, 5th Floor</td>\n",
       "      <td>Toronto</td>\n",
       "      <td>M5B 1W2</td>\n",
       "      <td>www.toronto.ca/community-people/health-wellnes...</td>\n",
       "      <td>4372584482</td>\n",
       "      <td>-7938955775</td>\n",
       "    </tr>\n",
       "    <tr>\n",
       "      <th>3</th>\n",
       "      <td>5183</td>\n",
       "      <td>Huron Perth District Health Unit</td>\n",
       "      <td>653 West Gore Street</td>\n",
       "      <td>Stratford</td>\n",
       "      <td>N5A 1L4</td>\n",
       "      <td>www.hpph.ca</td>\n",
       "      <td>4360051407</td>\n",
       "      <td>-8128148453</td>\n",
       "    </tr>\n",
       "    <tr>\n",
       "      <th>4</th>\n",
       "      <td>2266</td>\n",
       "      <td>Wellington-Dufferin-Guelph Public Health</td>\n",
       "      <td>160 Chancellors Way</td>\n",
       "      <td>Guelph</td>\n",
       "      <td>N1G 0E1</td>\n",
       "      <td>www.wdgpublichealth.ca</td>\n",
       "      <td>4385364154</td>\n",
       "      <td>-8037208498</td>\n",
       "    </tr>\n",
       "  </tbody>\n",
       "</table>\n",
       "</div>"
      ],
      "text/plain": [
       "   PHU_ID                             Reporting_PHU  \\\n",
       "0    2244              Middlesex-London Health Unit   \n",
       "1    2236           Halton Region Health Department   \n",
       "2    3895                     Toronto Public Health   \n",
       "3    5183          Huron Perth District Health Unit   \n",
       "4    2266  Wellington-Dufferin-Guelph Public Health   \n",
       "\n",
       "            Reporting_PHU_Address Reporting_PHU_City  \\\n",
       "0                  50 King Street             London   \n",
       "1                1151 Bronte Road           Oakville   \n",
       "2  277 Victoria Street, 5th Floor            Toronto   \n",
       "3            653 West Gore Street          Stratford   \n",
       "4             160 Chancellors Way             Guelph   \n",
       "\n",
       "  Reporting_PHU_Postal_Code  \\\n",
       "0                   N6A 5L7   \n",
       "1                   L6M 3Ll   \n",
       "2                   M5B 1W2   \n",
       "3                   N5A 1L4   \n",
       "4                   N1G 0E1   \n",
       "\n",
       "                               Reporting_PHU_Website  Reporting_PHU_Latitude  \\\n",
       "0                                 www.healthunit.com              4299571559   \n",
       "1         www.halton.ca/For-Residents/Public-Health/              4351209709   \n",
       "2  www.toronto.ca/community-people/health-wellnes...              4372584482   \n",
       "3                                        www.hpph.ca              4360051407   \n",
       "4                             www.wdgpublichealth.ca              4385364154   \n",
       "\n",
       "   Reporting_PHU_Longitude  \n",
       "0               -814569832  \n",
       "1              -7989050809  \n",
       "2              -7938955775  \n",
       "3              -8128148453  \n",
       "4              -8037208498  "
      ]
     },
     "execution_count": 15,
     "metadata": {},
     "output_type": "execute_result"
    }
   ],
   "source": [
    "df_Public_health_unit = pd.read_excel(\"https://github.com/lhminhtuan2000/IS4BI_DATH/raw/main/Public%20health%20unit.xlsx\")\n",
    "df_Public_health_unit.head()"
   ]
  },
  {
   "cell_type": "code",
   "execution_count": null,
   "metadata": {},
   "outputs": [
    {
     "name": "stdout",
     "output_type": "stream",
     "text": [
      "Not duplicated: False\n",
      "Shape = (35, 8)\n",
      "Missing value\n",
      "PHU_ID                       0\n",
      "Reporting_PHU                0\n",
      "Reporting_PHU_Address        0\n",
      "Reporting_PHU_City           0\n",
      "Reporting_PHU_Postal_Code    0\n",
      "Reporting_PHU_Website        0\n",
      "Reporting_PHU_Latitude       0\n",
      "Reporting_PHU_Longitude      0\n",
      "dtype: int64\n"
     ]
    }
   ],
   "source": [
    "printInfo(df_Public_health_unit)"
   ]
  },
  {
   "cell_type": "code",
   "execution_count": null,
   "metadata": {},
   "outputs": [
    {
     "name": "stdout",
     "output_type": "stream",
     "text": [
      "False    34\n",
      "True      1\n",
      "dtype: int64\n",
      "The value that duplicated: [[2244 'Middlesex-London Health Unit' '50 King Street' 'London' 'N6A 5L7'\n",
      "  'www.healthunit.com' 4299571559 -814569832]]\n",
      "The line that duplicated\n"
     ]
    },
    {
     "data": {
      "text/html": [
       "<div>\n",
       "<style scoped>\n",
       "    .dataframe tbody tr th:only-of-type {\n",
       "        vertical-align: middle;\n",
       "    }\n",
       "\n",
       "    .dataframe tbody tr th {\n",
       "        vertical-align: top;\n",
       "    }\n",
       "\n",
       "    .dataframe thead th {\n",
       "        text-align: right;\n",
       "    }\n",
       "</style>\n",
       "<table border=\"1\" class=\"dataframe\">\n",
       "  <thead>\n",
       "    <tr style=\"text-align: right;\">\n",
       "      <th></th>\n",
       "      <th>PHU_ID</th>\n",
       "      <th>Reporting_PHU</th>\n",
       "      <th>Reporting_PHU_Address</th>\n",
       "      <th>Reporting_PHU_City</th>\n",
       "      <th>Reporting_PHU_Postal_Code</th>\n",
       "      <th>Reporting_PHU_Website</th>\n",
       "      <th>Reporting_PHU_Latitude</th>\n",
       "      <th>Reporting_PHU_Longitude</th>\n",
       "    </tr>\n",
       "  </thead>\n",
       "  <tbody>\n",
       "    <tr>\n",
       "      <th>0</th>\n",
       "      <td>2244</td>\n",
       "      <td>Middlesex-London Health Unit</td>\n",
       "      <td>50 King Street</td>\n",
       "      <td>London</td>\n",
       "      <td>N6A 5L7</td>\n",
       "      <td>www.healthunit.com</td>\n",
       "      <td>4299571559</td>\n",
       "      <td>-814569832</td>\n",
       "    </tr>\n",
       "    <tr>\n",
       "      <th>34</th>\n",
       "      <td>2244</td>\n",
       "      <td>Middlesex-London Health Unit</td>\n",
       "      <td>50 King Street</td>\n",
       "      <td>London</td>\n",
       "      <td>N6A 5L7</td>\n",
       "      <td>www.healthunit.com</td>\n",
       "      <td>4299571559</td>\n",
       "      <td>-814569832</td>\n",
       "    </tr>\n",
       "  </tbody>\n",
       "</table>\n",
       "</div>"
      ],
      "text/plain": [
       "    PHU_ID                 Reporting_PHU Reporting_PHU_Address  \\\n",
       "0     2244  Middlesex-London Health Unit        50 King Street   \n",
       "34    2244  Middlesex-London Health Unit        50 King Street   \n",
       "\n",
       "   Reporting_PHU_City Reporting_PHU_Postal_Code Reporting_PHU_Website  \\\n",
       "0              London                   N6A 5L7    www.healthunit.com   \n",
       "34             London                   N6A 5L7    www.healthunit.com   \n",
       "\n",
       "    Reporting_PHU_Latitude  Reporting_PHU_Longitude  \n",
       "0               4299571559               -814569832  \n",
       "34              4299571559               -814569832  "
      ]
     },
     "execution_count": 17,
     "metadata": {},
     "output_type": "execute_result"
    }
   ],
   "source": [
    "print(df_Public_health_unit.duplicated().value_counts())\n",
    "print(\"The value that duplicated:\",df_Public_health_unit[df_Public_health_unit.duplicated()].values)\n",
    "print(\"The line that duplicated\")\n",
    "df_Public_health_unit[df_Public_health_unit['PHU_ID'] == 2244]"
   ]
  },
  {
   "cell_type": "code",
   "execution_count": null,
   "metadata": {},
   "outputs": [
    {
     "name": "stdout",
     "output_type": "stream",
     "text": [
      "Number of PHU_IDs: 34\n",
      "[2226, 2227, 2230, 2233, 2234, 2235, 2236, 2237, 2238, 2240, 2241, 2242, 2243, 2244, 2246, 2247, 2249, 2251, 2253, 2255, 2256, 2257, 2258, 2260, 2261, 2262, 2263, 2265, 2266, 2268, 2270, 3895, 4913, 5183]\n",
      "__________________________________________________________________________________________________________\n",
      "Number of Reporting_PHUs: 34\n",
      "['Algoma Public Health Unit', 'Brant County Health Unit', 'Chatham-Kent Health Unit', 'Durham Region Health Department', 'Eastern Ontario Health Unit', 'Grey Bruce Health Unit', 'Haldimand-Norfolk Health Unit', 'Haliburton, Kawartha, Pine Ridge District Health Unit', 'Halton Region Health Department', 'Hamilton Public Health Services', 'Hastings and Prince Edward Counties Health Unit', 'Huron Perth District Health Unit', 'Kingston, Frontenac and Lennox & Addington Public Health', 'Lambton Public Health', 'Leeds, Grenville and Lanark District Health Unit', 'Middlesex-London Health Unit', 'Niagara Region Public Health Department', 'North Bay Parry Sound District Health Unit', 'Northwestern Health Unit', 'Ottawa Public Health', 'Peel Public Health', 'Peterborough Public Health', 'Porcupine Health Unit', 'Region of Waterloo, Public Health', 'Renfrew County and District Health Unit', 'Simcoe Muskoka District Health Unit', 'Southwestern Public Health', 'Sudbury & District Health Unit', 'Thunder Bay District Health Unit', 'Timiskaming Health Unit', 'Toronto Public Health', 'Wellington-Dufferin-Guelph Public Health', 'Windsor-Essex County Health Unit', 'York Region Public Health Services']\n",
      "__________________________________________________________________________________________________________\n",
      "Number of Reporting_PHU_Citys: 34\n",
      "['Barrie', 'Belleville', 'Brantford', 'Brockville', 'Chatham', 'Cornwall', 'Guelph', 'Hamilton', 'Kenora', 'Kingston', 'London', 'Mississauga', 'New Liskeard', 'Newmarket', 'North Bay', 'Oakville', 'Ottawa', 'Owen Sound', 'Pembroke', 'Peterborough', 'Point Edward', 'Port Hope', 'Sault Ste. Marie', 'Simcoe', 'St. Thomas', 'Stratford', 'Sudbury', 'Thorold', 'Thunder Bay', 'Timmins', 'Toronto', 'Waterloo', 'Whitby', 'Windsor']\n",
      "__________________________________________________________________________________________________________\n"
     ]
    }
   ],
   "source": [
    "printValue(\"PHU_ID\", df_Public_health_unit, 0)\n",
    "printValue(\"Reporting_PHU\", df_Public_health_unit, 0)\n",
    "printValue(\"Reporting_PHU_City\", df_Public_health_unit, 0)"
   ]
  },
  {
   "attachments": {},
   "cell_type": "markdown",
   "metadata": {},
   "source": [
    "# Public Health Units GROUP"
   ]
  },
  {
   "cell_type": "code",
   "execution_count": null,
   "metadata": {},
   "outputs": [
    {
     "data": {
      "text/html": [
       "<div>\n",
       "<style scoped>\n",
       "    .dataframe tbody tr th:only-of-type {\n",
       "        vertical-align: middle;\n",
       "    }\n",
       "\n",
       "    .dataframe tbody tr th {\n",
       "        vertical-align: top;\n",
       "    }\n",
       "\n",
       "    .dataframe thead th {\n",
       "        text-align: right;\n",
       "    }\n",
       "</style>\n",
       "<table border=\"1\" class=\"dataframe\">\n",
       "  <thead>\n",
       "    <tr style=\"text-align: right;\">\n",
       "      <th></th>\n",
       "      <th>PHU_Group</th>\n",
       "      <th>PHU_City</th>\n",
       "      <th>PHU_region</th>\n",
       "    </tr>\n",
       "  </thead>\n",
       "  <tbody>\n",
       "    <tr>\n",
       "      <th>0</th>\n",
       "      <td>Central</td>\n",
       "      <td>Toronto</td>\n",
       "      <td>Toronto Public Health</td>\n",
       "    </tr>\n",
       "    <tr>\n",
       "      <th>1</th>\n",
       "      <td>Central</td>\n",
       "      <td>Newmarket</td>\n",
       "      <td>York Region Public Health Services</td>\n",
       "    </tr>\n",
       "    <tr>\n",
       "      <th>2</th>\n",
       "      <td>Central East</td>\n",
       "      <td>Durham Region</td>\n",
       "      <td>Durham Region Health Department</td>\n",
       "    </tr>\n",
       "    <tr>\n",
       "      <th>3</th>\n",
       "      <td>Central East</td>\n",
       "      <td>Port Hope</td>\n",
       "      <td>Haliburton, Kawartha, Pine Ridge District Heal...</td>\n",
       "    </tr>\n",
       "    <tr>\n",
       "      <th>4</th>\n",
       "      <td>Central East</td>\n",
       "      <td>Peterborough</td>\n",
       "      <td>Peterborough Public Health</td>\n",
       "    </tr>\n",
       "  </tbody>\n",
       "</table>\n",
       "</div>"
      ],
      "text/plain": [
       "      PHU_Group       PHU_City  \\\n",
       "0       Central        Toronto   \n",
       "1       Central      Newmarket   \n",
       "2  Central East  Durham Region   \n",
       "3  Central East      Port Hope   \n",
       "4  Central East   Peterborough   \n",
       "\n",
       "                                          PHU_region  \n",
       "0                              Toronto Public Health  \n",
       "1                 York Region Public Health Services  \n",
       "2                    Durham Region Health Department  \n",
       "3  Haliburton, Kawartha, Pine Ridge District Heal...  \n",
       "4                         Peterborough Public Health  "
      ]
     },
     "execution_count": 19,
     "metadata": {},
     "output_type": "execute_result"
    }
   ],
   "source": [
    "df_Public_Health_Units_GROUP = pd.read_excel(\"https://github.com/lhminhtuan2000/IS4BI_DATH/raw/3afccf73b907fdecc2f43f81959265c45d2246b2/Public%20Health%20Units%20GROUP.xlsx\")\n",
    "df_Public_Health_Units_GROUP.head()"
   ]
  },
  {
   "cell_type": "code",
   "execution_count": null,
   "metadata": {},
   "outputs": [
    {
     "name": "stdout",
     "output_type": "stream",
     "text": [
      "Not duplicated: True\n",
      "Shape = (34, 3)\n",
      "Missing value\n",
      "PHU_Group     0\n",
      "PHU_City      0\n",
      "PHU_region    0\n",
      "dtype: int64\n"
     ]
    }
   ],
   "source": [
    "printInfo(df_Public_Health_Units_GROUP)"
   ]
  },
  {
   "cell_type": "code",
   "execution_count": null,
   "metadata": {},
   "outputs": [
    {
     "name": "stdout",
     "output_type": "stream",
     "text": [
      "Number of PHU_Groups: 13\n",
      "['Central', 'Central East', 'Central West', 'Champlain', 'Erie St. Clair', 'Hamilton Niagara Haldimand Brant', 'Mississauga Halton', 'North East', 'North Simcoe Muskoka', 'North West', 'South East', 'South West', 'Waterloo Wellington']\n",
      "__________________________________________________________________________________________________________\n",
      "Number of PHU_Citys: 34\n",
      "['Barrie', 'Belleville', 'Brantford', 'Brockville', 'Chatham', 'Cornwall', 'Durham Region', 'Fergus', 'Hamilton', 'Kenora', 'Kingston', 'London', 'Mississauga', 'New Liskeard', 'Newmarket', 'North Bay', 'Oakville', 'Ottawa', 'Owen Sound', 'Pembroke', 'Peterborough', 'Point Edward', 'Port Hope', 'Sault Ste. Marie', 'Simcoe', 'St. Thomas', 'Stratford', 'Sudbury', 'Thorold', 'Thunder Bay', 'Timmins', 'Toronto', 'Waterloo', 'Windsor']\n",
      "__________________________________________________________________________________________________________\n",
      "Number of PHU_regions: 34\n",
      "['Algoma Public Health Unit', 'Brant County Health Unit', 'Chatham-Kent Health Unit', 'Durham Region Health Department', 'Eastern Ontario Health Unit', 'Grey Bruce Health Unit', 'Haldimand-Norfolk Health Unit', 'Haliburton, Kawartha, Pine Ridge District Health Unit', 'Halton Region Health Department', 'Hamilton Public Health Services', 'Hastings and Prince Edward Counties Health Unit', 'Huron Perth Health Unit', 'Kingston, Frontenac and Lennox & Addington Health Unit', 'Lambton Health Unit', 'Leeds, Grenville and Lanark District Health Unit', 'Middlesex-London Health Unit', 'Niagara Region Public Health Department', 'North Bay Parry Sound District Health Unit', 'Northwestern Health Unit', 'Ottawa Public Health', 'Peel Public Health', 'Peterborough Public Health', 'Porcupine Health Unit', 'Region of Waterloo, Public Health', 'Renfrew County and District Health Unit', 'Simcoe Muskoka District Health Unit', 'Southwestern Public Health', 'Sudbury and District Health Unit', 'Thunder Bay District Health Unit', 'Timiskaming Health Unit', 'Toronto Public Health', 'Wellington-Dufferin-Guelph Health Unit', 'Windsor-Essex County Health Unit', 'York Region Public Health Services']\n",
      "__________________________________________________________________________________________________________\n"
     ]
    }
   ],
   "source": [
    "printValue(\"PHU_Group\", df_Public_Health_Units_GROUP, 0)\n",
    "printValue(\"PHU_City\", df_Public_Health_Units_GROUP, 0)\n",
    "printValue(\"PHU_region\", df_Public_Health_Units_GROUP, 0)"
   ]
  },
  {
   "attachments": {},
   "cell_type": "markdown",
   "metadata": {},
   "source": [
    "### Mapping 'Public_health_unit' vs 'Public_Health_Units_GROUP' = \"City\""
   ]
  },
  {
   "cell_type": "code",
   "execution_count": null,
   "metadata": {},
   "outputs": [
    {
     "data": {
      "text/plain": [
       "4    Guelph\n",
       "9    Whitby\n",
       "Name: Reporting_PHU_City, dtype: object"
      ]
     },
     "execution_count": 22,
     "metadata": {},
     "output_type": "execute_result"
    }
   ],
   "source": [
    "df_Public_health_unit[df_Public_health_unit['Reporting_PHU_City'].isin(df_Public_Health_Units_GROUP['PHU_City']) == False]['Reporting_PHU_City']"
   ]
  },
  {
   "cell_type": "code",
   "execution_count": null,
   "metadata": {},
   "outputs": [
    {
     "data": {
      "text/html": [
       "<div>\n",
       "<style scoped>\n",
       "    .dataframe tbody tr th:only-of-type {\n",
       "        vertical-align: middle;\n",
       "    }\n",
       "\n",
       "    .dataframe tbody tr th {\n",
       "        vertical-align: top;\n",
       "    }\n",
       "\n",
       "    .dataframe thead th {\n",
       "        text-align: right;\n",
       "    }\n",
       "</style>\n",
       "<table border=\"1\" class=\"dataframe\">\n",
       "  <thead>\n",
       "    <tr style=\"text-align: right;\">\n",
       "      <th></th>\n",
       "      <th>PHU_ID</th>\n",
       "      <th>Reporting_PHU</th>\n",
       "      <th>Reporting_PHU_Address</th>\n",
       "      <th>Reporting_PHU_City</th>\n",
       "      <th>Reporting_PHU_Postal_Code</th>\n",
       "      <th>Reporting_PHU_Website</th>\n",
       "      <th>Reporting_PHU_Latitude</th>\n",
       "      <th>Reporting_PHU_Longitude</th>\n",
       "    </tr>\n",
       "  </thead>\n",
       "  <tbody>\n",
       "    <tr>\n",
       "      <th>4</th>\n",
       "      <td>2266</td>\n",
       "      <td>Wellington-Dufferin-Guelph Public Health</td>\n",
       "      <td>160 Chancellors Way</td>\n",
       "      <td>Guelph</td>\n",
       "      <td>N1G 0E1</td>\n",
       "      <td>www.wdgpublichealth.ca</td>\n",
       "      <td>4385364154</td>\n",
       "      <td>-8037208498</td>\n",
       "    </tr>\n",
       "    <tr>\n",
       "      <th>9</th>\n",
       "      <td>2230</td>\n",
       "      <td>Durham Region Health Department</td>\n",
       "      <td>605 Rossland Road East</td>\n",
       "      <td>Whitby</td>\n",
       "      <td>L1N 0B2</td>\n",
       "      <td>www.durham.ca/en/health-and-wellness/health-an...</td>\n",
       "      <td>4403514967</td>\n",
       "      <td>-7888249823</td>\n",
       "    </tr>\n",
       "  </tbody>\n",
       "</table>\n",
       "</div>"
      ],
      "text/plain": [
       "   PHU_ID                             Reporting_PHU   Reporting_PHU_Address  \\\n",
       "4    2266  Wellington-Dufferin-Guelph Public Health     160 Chancellors Way   \n",
       "9    2230           Durham Region Health Department  605 Rossland Road East   \n",
       "\n",
       "  Reporting_PHU_City Reporting_PHU_Postal_Code  \\\n",
       "4             Guelph                   N1G 0E1   \n",
       "9             Whitby                   L1N 0B2   \n",
       "\n",
       "                               Reporting_PHU_Website  Reporting_PHU_Latitude  \\\n",
       "4                             www.wdgpublichealth.ca              4385364154   \n",
       "9  www.durham.ca/en/health-and-wellness/health-an...              4403514967   \n",
       "\n",
       "   Reporting_PHU_Longitude  \n",
       "4              -8037208498  \n",
       "9              -7888249823  "
      ]
     },
     "execution_count": 23,
     "metadata": {},
     "output_type": "execute_result"
    }
   ],
   "source": [
    "df_Public_health_unit[(df_Public_health_unit['Reporting_PHU_City'] == 'Guelph')\n",
    "                    | (df_Public_health_unit['Reporting_PHU_City'] == 'Whitby')]"
   ]
  },
  {
   "cell_type": "code",
   "execution_count": null,
   "metadata": {},
   "outputs": [
    {
     "data": {
      "text/plain": [
       "2    Durham Region\n",
       "5           Fergus\n",
       "Name: PHU_City, dtype: object"
      ]
     },
     "execution_count": 24,
     "metadata": {},
     "output_type": "execute_result"
    }
   ],
   "source": [
    "df_Public_Health_Units_GROUP[df_Public_Health_Units_GROUP['PHU_City'].isin(df_Public_health_unit['Reporting_PHU_City']) == False]['PHU_City']"
   ]
  },
  {
   "cell_type": "code",
   "execution_count": null,
   "metadata": {},
   "outputs": [
    {
     "data": {
      "text/html": [
       "<div>\n",
       "<style scoped>\n",
       "    .dataframe tbody tr th:only-of-type {\n",
       "        vertical-align: middle;\n",
       "    }\n",
       "\n",
       "    .dataframe tbody tr th {\n",
       "        vertical-align: top;\n",
       "    }\n",
       "\n",
       "    .dataframe thead th {\n",
       "        text-align: right;\n",
       "    }\n",
       "</style>\n",
       "<table border=\"1\" class=\"dataframe\">\n",
       "  <thead>\n",
       "    <tr style=\"text-align: right;\">\n",
       "      <th></th>\n",
       "      <th>PHU_Group</th>\n",
       "      <th>PHU_City</th>\n",
       "      <th>PHU_region</th>\n",
       "    </tr>\n",
       "  </thead>\n",
       "  <tbody>\n",
       "    <tr>\n",
       "      <th>2</th>\n",
       "      <td>Central East</td>\n",
       "      <td>Durham Region</td>\n",
       "      <td>Durham Region Health Department</td>\n",
       "    </tr>\n",
       "    <tr>\n",
       "      <th>5</th>\n",
       "      <td>Central West</td>\n",
       "      <td>Fergus</td>\n",
       "      <td>Wellington-Dufferin-Guelph Health Unit</td>\n",
       "    </tr>\n",
       "  </tbody>\n",
       "</table>\n",
       "</div>"
      ],
      "text/plain": [
       "      PHU_Group       PHU_City                              PHU_region\n",
       "2  Central East  Durham Region         Durham Region Health Department\n",
       "5  Central West         Fergus  Wellington-Dufferin-Guelph Health Unit"
      ]
     },
     "execution_count": 25,
     "metadata": {},
     "output_type": "execute_result"
    }
   ],
   "source": [
    "df_Public_Health_Units_GROUP[(df_Public_Health_Units_GROUP['PHU_City'] == 'Durham Region')\n",
    "                    | (df_Public_Health_Units_GROUP['PHU_City'] == 'Fergus')]"
   ]
  },
  {
   "attachments": {},
   "cell_type": "markdown",
   "metadata": {},
   "source": [
    "# Vaccines_by_age_phu"
   ]
  },
  {
   "cell_type": "code",
   "execution_count": null,
   "metadata": {},
   "outputs": [
    {
     "data": {
      "text/html": [
       "<div>\n",
       "<style scoped>\n",
       "    .dataframe tbody tr th:only-of-type {\n",
       "        vertical-align: middle;\n",
       "    }\n",
       "\n",
       "    .dataframe tbody tr th {\n",
       "        vertical-align: top;\n",
       "    }\n",
       "\n",
       "    .dataframe thead th {\n",
       "        text-align: right;\n",
       "    }\n",
       "</style>\n",
       "<table border=\"1\" class=\"dataframe\">\n",
       "  <thead>\n",
       "    <tr style=\"text-align: right;\">\n",
       "      <th></th>\n",
       "      <th>Date</th>\n",
       "      <th>PHU ID</th>\n",
       "      <th>Agegroup</th>\n",
       "      <th>At least one dose_cumulative</th>\n",
       "      <th>Second_dose_cumulative</th>\n",
       "      <th>fully_vaccinated_cumulative</th>\n",
       "      <th>third_dose_cumulative</th>\n",
       "    </tr>\n",
       "  </thead>\n",
       "  <tbody>\n",
       "    <tr>\n",
       "      <th>0</th>\n",
       "      <td>7/26/2021</td>\n",
       "      <td>2226</td>\n",
       "      <td>12-17yrs</td>\n",
       "      <td>3843.0</td>\n",
       "      <td>1890.0</td>\n",
       "      <td>NaN</td>\n",
       "      <td>NaN</td>\n",
       "    </tr>\n",
       "    <tr>\n",
       "      <th>1</th>\n",
       "      <td>7/26/2021</td>\n",
       "      <td>2227</td>\n",
       "      <td>12-17yrs</td>\n",
       "      <td>6306.0</td>\n",
       "      <td>3567.0</td>\n",
       "      <td>NaN</td>\n",
       "      <td>NaN</td>\n",
       "    </tr>\n",
       "    <tr>\n",
       "      <th>2</th>\n",
       "      <td>7/26/2021</td>\n",
       "      <td>2230</td>\n",
       "      <td>12-17yrs</td>\n",
       "      <td>34025.0</td>\n",
       "      <td>16953.0</td>\n",
       "      <td>NaN</td>\n",
       "      <td>NaN</td>\n",
       "    </tr>\n",
       "    <tr>\n",
       "      <th>3</th>\n",
       "      <td>7/26/2021</td>\n",
       "      <td>2233</td>\n",
       "      <td>12-17yrs</td>\n",
       "      <td>5533.0</td>\n",
       "      <td>3627.0</td>\n",
       "      <td>NaN</td>\n",
       "      <td>NaN</td>\n",
       "    </tr>\n",
       "    <tr>\n",
       "      <th>4</th>\n",
       "      <td>7/26/2021</td>\n",
       "      <td>2234</td>\n",
       "      <td>12-17yrs</td>\n",
       "      <td>3125.0</td>\n",
       "      <td>1711.0</td>\n",
       "      <td>NaN</td>\n",
       "      <td>NaN</td>\n",
       "    </tr>\n",
       "  </tbody>\n",
       "</table>\n",
       "</div>"
      ],
      "text/plain": [
       "        Date  PHU ID  Agegroup  At least one dose_cumulative  \\\n",
       "0  7/26/2021    2226  12-17yrs                        3843.0   \n",
       "1  7/26/2021    2227  12-17yrs                        6306.0   \n",
       "2  7/26/2021    2230  12-17yrs                       34025.0   \n",
       "3  7/26/2021    2233  12-17yrs                        5533.0   \n",
       "4  7/26/2021    2234  12-17yrs                        3125.0   \n",
       "\n",
       "   Second_dose_cumulative  fully_vaccinated_cumulative  third_dose_cumulative  \n",
       "0                  1890.0                          NaN                    NaN  \n",
       "1                  3567.0                          NaN                    NaN  \n",
       "2                 16953.0                          NaN                    NaN  \n",
       "3                  3627.0                          NaN                    NaN  \n",
       "4                  1711.0                          NaN                    NaN  "
      ]
     },
     "execution_count": 26,
     "metadata": {},
     "output_type": "execute_result"
    }
   ],
   "source": [
    "df_vaccines_by_age_phu = pd.read_csv(\".\\vaccines_by_age_phu.csv\")\n",
    "df_vaccines_by_age_phu.head()"
   ]
  },
  {
   "cell_type": "code",
   "execution_count": null,
   "metadata": {},
   "outputs": [
    {
     "name": "stdout",
     "output_type": "stream",
     "text": [
      "Not duplicated: True\n",
      "Shape = (171182, 7)\n",
      "Missing value\n",
      "Date                                 0\n",
      "PHU ID                               0\n",
      "Agegroup                             0\n",
      "At least one dose_cumulative       211\n",
      "Second_dose_cumulative          122540\n",
      "fully_vaccinated_cumulative      49270\n",
      "third_dose_cumulative            65167\n",
      "dtype: int64\n"
     ]
    }
   ],
   "source": [
    "printInfo(df_vaccines_by_age_phu)"
   ]
  },
  {
   "cell_type": "code",
   "execution_count": null,
   "metadata": {},
   "outputs": [
    {
     "name": "stdout",
     "output_type": "stream",
     "text": [
      "Number of PHU IDs: 35\n",
      "[2226, 2227, 2230, 2233, 2234, 2235, 2236, 2237, 2238, 2240, 2241, 2242, 2243, 2244, 2246, 2247, 2249, 2251, 2253, 2255, 2256, 2257, 2258, 2260, 2261, 2262, 2263, 2265, 2266, 2268, 2270, 3895, 4913, 5183, 9999]\n",
      "__________________________________________________________________________________________________________\n",
      "Number of Agegroups: 13\n",
      "['05-11yrs', '12-17yrs', '18-29yrs', '30-39yrs', '40-49yrs', '50-59yrs', '60-69yrs', '70-79yrs', '80+', 'Adults_18plus', 'Ontario_12plus', 'Ontario_5plus', 'Undisclosed_or_missing']\n",
      "__________________________________________________________________________________________________________\n"
     ]
    }
   ],
   "source": [
    "printValue(\"PHU ID\", df_vaccines_by_age_phu, 0)\n",
    "printValue(\"Agegroup\", df_vaccines_by_age_phu, 0)"
   ]
  },
  {
   "cell_type": "code",
   "execution_count": null,
   "metadata": {},
   "outputs": [
    {
     "data": {
      "text/html": [
       "<div>\n",
       "<style scoped>\n",
       "    .dataframe tbody tr th:only-of-type {\n",
       "        vertical-align: middle;\n",
       "    }\n",
       "\n",
       "    .dataframe tbody tr th {\n",
       "        vertical-align: top;\n",
       "    }\n",
       "\n",
       "    .dataframe thead th {\n",
       "        text-align: right;\n",
       "    }\n",
       "</style>\n",
       "<table border=\"1\" class=\"dataframe\">\n",
       "  <thead>\n",
       "    <tr style=\"text-align: right;\">\n",
       "      <th></th>\n",
       "      <th>Date</th>\n",
       "      <th>PHU ID</th>\n",
       "      <th>Agegroup</th>\n",
       "      <th>At least one dose_cumulative</th>\n",
       "      <th>Second_dose_cumulative</th>\n",
       "      <th>fully_vaccinated_cumulative</th>\n",
       "      <th>third_dose_cumulative</th>\n",
       "    </tr>\n",
       "  </thead>\n",
       "  <tbody>\n",
       "    <tr>\n",
       "      <th>34</th>\n",
       "      <td>7/26/2021</td>\n",
       "      <td>9999</td>\n",
       "      <td>12-17yrs</td>\n",
       "      <td>207.0</td>\n",
       "      <td>20.0</td>\n",
       "      <td>NaN</td>\n",
       "      <td>NaN</td>\n",
       "    </tr>\n",
       "    <tr>\n",
       "      <th>69</th>\n",
       "      <td>7/26/2021</td>\n",
       "      <td>9999</td>\n",
       "      <td>18-29yrs</td>\n",
       "      <td>1313.0</td>\n",
       "      <td>135.0</td>\n",
       "      <td>NaN</td>\n",
       "      <td>NaN</td>\n",
       "    </tr>\n",
       "    <tr>\n",
       "      <th>104</th>\n",
       "      <td>7/26/2021</td>\n",
       "      <td>9999</td>\n",
       "      <td>30-39yrs</td>\n",
       "      <td>932.0</td>\n",
       "      <td>138.0</td>\n",
       "      <td>NaN</td>\n",
       "      <td>NaN</td>\n",
       "    </tr>\n",
       "    <tr>\n",
       "      <th>139</th>\n",
       "      <td>7/26/2021</td>\n",
       "      <td>9999</td>\n",
       "      <td>40-49yrs</td>\n",
       "      <td>507.0</td>\n",
       "      <td>97.0</td>\n",
       "      <td>NaN</td>\n",
       "      <td>NaN</td>\n",
       "    </tr>\n",
       "    <tr>\n",
       "      <th>174</th>\n",
       "      <td>7/26/2021</td>\n",
       "      <td>9999</td>\n",
       "      <td>50-59yrs</td>\n",
       "      <td>495.0</td>\n",
       "      <td>113.0</td>\n",
       "      <td>NaN</td>\n",
       "      <td>NaN</td>\n",
       "    </tr>\n",
       "    <tr>\n",
       "      <th>...</th>\n",
       "      <td>...</td>\n",
       "      <td>...</td>\n",
       "      <td>...</td>\n",
       "      <td>...</td>\n",
       "      <td>...</td>\n",
       "      <td>...</td>\n",
       "      <td>...</td>\n",
       "    </tr>\n",
       "    <tr>\n",
       "      <th>171041</th>\n",
       "      <td>8/25/2022</td>\n",
       "      <td>9999</td>\n",
       "      <td>80+</td>\n",
       "      <td>218.0</td>\n",
       "      <td>NaN</td>\n",
       "      <td>185.0</td>\n",
       "      <td>29.0</td>\n",
       "    </tr>\n",
       "    <tr>\n",
       "      <th>171076</th>\n",
       "      <td>8/25/2022</td>\n",
       "      <td>9999</td>\n",
       "      <td>Adults_18plus</td>\n",
       "      <td>35068.0</td>\n",
       "      <td>NaN</td>\n",
       "      <td>23845.0</td>\n",
       "      <td>2303.0</td>\n",
       "    </tr>\n",
       "    <tr>\n",
       "      <th>171111</th>\n",
       "      <td>8/25/2022</td>\n",
       "      <td>9999</td>\n",
       "      <td>Ontario_12plus</td>\n",
       "      <td>36351.0</td>\n",
       "      <td>NaN</td>\n",
       "      <td>24578.0</td>\n",
       "      <td>2331.0</td>\n",
       "    </tr>\n",
       "    <tr>\n",
       "      <th>171146</th>\n",
       "      <td>8/25/2022</td>\n",
       "      <td>9999</td>\n",
       "      <td>Ontario_5plus</td>\n",
       "      <td>36414.0</td>\n",
       "      <td>NaN</td>\n",
       "      <td>24638.0</td>\n",
       "      <td>2331.0</td>\n",
       "    </tr>\n",
       "    <tr>\n",
       "      <th>171181</th>\n",
       "      <td>8/25/2022</td>\n",
       "      <td>9999</td>\n",
       "      <td>Undisclosed_or_missing</td>\n",
       "      <td>100.0</td>\n",
       "      <td>NaN</td>\n",
       "      <td>54.0</td>\n",
       "      <td>6.0</td>\n",
       "    </tr>\n",
       "  </tbody>\n",
       "</table>\n",
       "<p>4865 rows × 7 columns</p>\n",
       "</div>"
      ],
      "text/plain": [
       "             Date  PHU ID                Agegroup  \\\n",
       "34      7/26/2021    9999                12-17yrs   \n",
       "69      7/26/2021    9999                18-29yrs   \n",
       "104     7/26/2021    9999                30-39yrs   \n",
       "139     7/26/2021    9999                40-49yrs   \n",
       "174     7/26/2021    9999                50-59yrs   \n",
       "...           ...     ...                     ...   \n",
       "171041  8/25/2022    9999                     80+   \n",
       "171076  8/25/2022    9999           Adults_18plus   \n",
       "171111  8/25/2022    9999          Ontario_12plus   \n",
       "171146  8/25/2022    9999           Ontario_5plus   \n",
       "171181  8/25/2022    9999  Undisclosed_or_missing   \n",
       "\n",
       "        At least one dose_cumulative  Second_dose_cumulative  \\\n",
       "34                             207.0                    20.0   \n",
       "69                            1313.0                   135.0   \n",
       "104                            932.0                   138.0   \n",
       "139                            507.0                    97.0   \n",
       "174                            495.0                   113.0   \n",
       "...                              ...                     ...   \n",
       "171041                         218.0                     NaN   \n",
       "171076                       35068.0                     NaN   \n",
       "171111                       36351.0                     NaN   \n",
       "171146                       36414.0                     NaN   \n",
       "171181                         100.0                     NaN   \n",
       "\n",
       "        fully_vaccinated_cumulative  third_dose_cumulative  \n",
       "34                              NaN                    NaN  \n",
       "69                              NaN                    NaN  \n",
       "104                             NaN                    NaN  \n",
       "139                             NaN                    NaN  \n",
       "174                             NaN                    NaN  \n",
       "...                             ...                    ...  \n",
       "171041                        185.0                   29.0  \n",
       "171076                      23845.0                 2303.0  \n",
       "171111                      24578.0                 2331.0  \n",
       "171146                      24638.0                 2331.0  \n",
       "171181                         54.0                    6.0  \n",
       "\n",
       "[4865 rows x 7 columns]"
      ]
     },
     "execution_count": 29,
     "metadata": {},
     "output_type": "execute_result"
    }
   ],
   "source": [
    "df_vaccines_by_age_phu[df_vaccines_by_age_phu['PHU ID'] == 9999]"
   ]
  },
  {
   "attachments": {},
   "cell_type": "markdown",
   "metadata": {},
   "source": [
    "-> ID = 9999 không phải outlier"
   ]
  }
 ],
 "metadata": {
  "kernelspec": {
   "display_name": "Python 3",
   "language": "python",
   "name": "python3"
  },
  "language_info": {
   "codemirror_mode": {
    "name": "ipython",
    "version": 3
   },
   "file_extension": ".py",
   "mimetype": "text/x-python",
   "name": "python",
   "nbconvert_exporter": "python",
   "pygments_lexer": "ipython3",
   "version": "3.10.9"
  },
  "orig_nbformat": 4,
  "vscode": {
   "interpreter": {
    "hash": "9f396aa588b802aa7dd71a029ced5f525d5b07128feb88bea34a1699f85b6eeb"
   }
  }
 },
 "nbformat": 4,
 "nbformat_minor": 2
}
